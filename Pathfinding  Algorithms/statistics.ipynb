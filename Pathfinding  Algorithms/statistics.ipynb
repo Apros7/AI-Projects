{
 "cells": [
  {
   "cell_type": "code",
   "execution_count": 1,
   "metadata": {},
   "outputs": [
    {
     "name": "stdout",
     "output_type": "stream",
     "text": [
      "pygame 2.5.0 (SDL 2.28.0, Python 3.11.2)\n",
      "Hello from the pygame community. https://www.pygame.org/contribute.html\n"
     ]
    }
   ],
   "source": [
    "import pickle\n",
    "import copy\n",
    "from simulation import init_solvers, color_node, get_valid_grid\n",
    "from tqdm import tqdm\n",
    "stats = [([], []), ([], []), ([], []), ([], [])]\n",
    "number_tiles_horizontal = 40\n",
    "number_tiles_vertical = 25"
   ]
  },
  {
   "cell_type": "code",
   "execution_count": 2,
   "metadata": {},
   "outputs": [],
   "source": [
    "iterations = 50"
   ]
  },
  {
   "cell_type": "markdown",
   "metadata": {},
   "source": [
    "##### Getting stats:"
   ]
  },
  {
   "cell_type": "code",
   "execution_count": 16,
   "metadata": {},
   "outputs": [
    {
     "name": "stderr",
     "output_type": "stream",
     "text": [
      "  0%|          | 0/50 [00:00<?, ?it/s]"
     ]
    },
    {
     "name": "stdout",
     "output_type": "stream",
     "text": [
      "I (HeuristicSolver) have now finished in 136 moves.\n",
      "I (RandomBaselineSolver) have now finished in 292 moves.\n"
     ]
    },
    {
     "name": "stderr",
     "output_type": "stream",
     "text": [
      "  2%|▏         | 1/50 [00:01<01:21,  1.67s/it]"
     ]
    },
    {
     "name": "stdout",
     "output_type": "stream",
     "text": [
      "I (CircleBaselineSolver) have now finished in 553 moves.\n",
      "I (HeuristicSolver) have now finished in 136 moves.\n",
      "I (AstarSolver) have now finished in 257 moves.\n",
      "I (HeuristicSolver) have now finished in 82 moves.\n",
      "I (RandomBaselineSolver) have now finished in 504 moves.\n"
     ]
    },
    {
     "name": "stderr",
     "output_type": "stream",
     "text": [
      "  4%|▍         | 2/50 [00:03<01:11,  1.49s/it]"
     ]
    },
    {
     "name": "stdout",
     "output_type": "stream",
     "text": [
      "I (CircleBaselineSolver) have now finished in 600 moves.\n",
      "I (HeuristicSolver) have now finished in 82 moves.\n",
      "I (AstarSolver) have now finished in 221 moves.\n",
      "I (HeuristicSolver) have now finished in 113 moves.\n",
      "I (RandomBaselineSolver) have now finished in 505 moves.\n"
     ]
    },
    {
     "name": "stderr",
     "output_type": "stream",
     "text": [
      "  6%|▌         | 3/50 [00:05<01:21,  1.74s/it]"
     ]
    },
    {
     "name": "stdout",
     "output_type": "stream",
     "text": [
      "I (CircleBaselineSolver) have now finished in 591 moves.\n",
      "I (HeuristicSolver) have now finished in 113 moves.\n",
      "I (AstarSolver) have now finished in 314 moves.\n",
      "I (HeuristicSolver) have now finished in 64 moves.\n",
      "I (RandomBaselineSolver) have now finished in 278 moves.\n"
     ]
    },
    {
     "name": "stderr",
     "output_type": "stream",
     "text": [
      "  8%|▊         | 4/50 [00:06<01:10,  1.54s/it]"
     ]
    },
    {
     "name": "stdout",
     "output_type": "stream",
     "text": [
      "I (CircleBaselineSolver) have now finished in 462 moves.\n",
      "I (HeuristicSolver) have now finished in 64 moves.\n",
      "I (AstarSolver) have now finished in 178 moves.\n",
      "I (HeuristicSolver) have now finished in 101 moves.\n",
      "I (RandomBaselineSolver) have now finished in 470 moves.\n"
     ]
    },
    {
     "name": "stderr",
     "output_type": "stream",
     "text": [
      " 10%|█         | 5/50 [00:07<01:07,  1.50s/it]"
     ]
    },
    {
     "name": "stdout",
     "output_type": "stream",
     "text": [
      "I (CircleBaselineSolver) have now finished in 602 moves.\n",
      "I (HeuristicSolver) have now finished in 101 moves.\n",
      "I (AstarSolver) have now finished in 324 moves.\n",
      "I (HeuristicSolver) have now finished in 133 moves.\n",
      "I (RandomBaselineSolver) have now finished in 415 moves.\n",
      "I (CircleBaselineSolver) have now finished in 534 moves.\n",
      "I (HeuristicSolver) have now finished in 133 moves.\n"
     ]
    },
    {
     "name": "stderr",
     "output_type": "stream",
     "text": [
      " 12%|█▏        | 6/50 [00:09<01:06,  1.52s/it]"
     ]
    },
    {
     "name": "stdout",
     "output_type": "stream",
     "text": [
      "I (AstarSolver) have now finished in 424 moves.\n",
      "I (HeuristicSolver) have now finished in 71 moves.\n",
      "I (RandomBaselineSolver) have now finished in 512 moves.\n",
      "I (CircleBaselineSolver) have now finished in 521 moves.\n",
      "I (HeuristicSolver) have now finished in 71 moves.\n"
     ]
    },
    {
     "name": "stderr",
     "output_type": "stream",
     "text": [
      " 14%|█▍        | 7/50 [00:10<01:01,  1.44s/it]"
     ]
    },
    {
     "name": "stdout",
     "output_type": "stream",
     "text": [
      "I (AstarSolver) have now finished in 355 moves.\n",
      "I (HeuristicSolver) have now finished in 191 moves.\n",
      "I (RandomBaselineSolver) have now finished in 575 moves.\n"
     ]
    },
    {
     "name": "stderr",
     "output_type": "stream",
     "text": [
      " 16%|█▌        | 8/50 [00:12<01:00,  1.44s/it]"
     ]
    },
    {
     "name": "stdout",
     "output_type": "stream",
     "text": [
      "I (CircleBaselineSolver) have now finished in 541 moves.\n",
      "I (HeuristicSolver) have now finished in 191 moves.\n",
      "I (AstarSolver) have now finished in 288 moves.\n",
      "I (HeuristicSolver) have now finished in 68 moves.\n",
      "I (RandomBaselineSolver) have now finished in 372 moves.\n"
     ]
    },
    {
     "name": "stderr",
     "output_type": "stream",
     "text": [
      " 18%|█▊        | 9/50 [00:13<00:56,  1.38s/it]"
     ]
    },
    {
     "name": "stdout",
     "output_type": "stream",
     "text": [
      "I (CircleBaselineSolver) have now finished in 407 moves.\n",
      "I (HeuristicSolver) have now finished in 68 moves.\n",
      "I (AstarSolver) have now finished in 218 moves.\n",
      "I (HeuristicSolver) have now finished in 103 moves.\n",
      "I (RandomBaselineSolver) have now finished in 429 moves.\n"
     ]
    },
    {
     "name": "stderr",
     "output_type": "stream",
     "text": [
      " 20%|██        | 10/50 [00:15<00:59,  1.49s/it]"
     ]
    },
    {
     "name": "stdout",
     "output_type": "stream",
     "text": [
      "I (CircleBaselineSolver) have now finished in 564 moves.\n",
      "I (HeuristicSolver) have now finished in 103 moves.\n",
      "I (AstarSolver) have now finished in 200 moves.\n",
      "I (HeuristicSolver) have now finished in 98 moves.\n",
      "I (RandomBaselineSolver) have now finished in 584 moves.\n",
      "I (CircleBaselineSolver) have now finished in 571 moves.\n",
      "I (HeuristicSolver) have now finished in 98 moves.\n",
      "I (AstarSolver) have now finished in 330 moves.\n"
     ]
    },
    {
     "name": "stderr",
     "output_type": "stream",
     "text": [
      " 22%|██▏       | 11/50 [00:17<01:05,  1.69s/it]"
     ]
    },
    {
     "name": "stdout",
     "output_type": "stream",
     "text": [
      "I (HeuristicSolver) have now finished in 44 moves.\n",
      "I (RandomBaselineSolver) have now finished in 405 moves.\n"
     ]
    },
    {
     "name": "stderr",
     "output_type": "stream",
     "text": [
      " 24%|██▍       | 12/50 [00:17<00:54,  1.43s/it]"
     ]
    },
    {
     "name": "stdout",
     "output_type": "stream",
     "text": [
      "I (CircleBaselineSolver) have now finished in 529 moves.\n",
      "I (HeuristicSolver) have now finished in 44 moves.\n",
      "I (AstarSolver) have now finished in 104 moves.\n",
      "I (HeuristicSolver) have now finished in 53 moves.\n",
      "I (RandomBaselineSolver) have now finished in 501 moves.\n"
     ]
    },
    {
     "name": "stderr",
     "output_type": "stream",
     "text": [
      " 26%|██▌       | 13/50 [00:19<00:49,  1.34s/it]"
     ]
    },
    {
     "name": "stdout",
     "output_type": "stream",
     "text": [
      "I (CircleBaselineSolver) have now finished in 515 moves.\n",
      "I (HeuristicSolver) have now finished in 53 moves.\n",
      "I (AstarSolver) have now finished in 242 moves.\n",
      "I (HeuristicSolver) have now finished in 116 moves.\n",
      "I (RandomBaselineSolver) have now finished in 626 moves.\n"
     ]
    },
    {
     "name": "stderr",
     "output_type": "stream",
     "text": [
      " 28%|██▊       | 14/50 [00:21<01:00,  1.67s/it]"
     ]
    },
    {
     "name": "stdout",
     "output_type": "stream",
     "text": [
      "I (CircleBaselineSolver) have now finished in 603 moves.\n",
      "I (HeuristicSolver) have now finished in 116 moves.\n",
      "I (AstarSolver) have now finished in 276 moves.\n",
      "I (HeuristicSolver) have now finished in 106 moves.\n",
      "I (RandomBaselineSolver) have now finished in 504 moves.\n"
     ]
    },
    {
     "name": "stderr",
     "output_type": "stream",
     "text": [
      " 30%|███       | 15/50 [00:22<00:53,  1.52s/it]"
     ]
    },
    {
     "name": "stdout",
     "output_type": "stream",
     "text": [
      "I (CircleBaselineSolver) have now finished in 548 moves.\n",
      "I (HeuristicSolver) have now finished in 106 moves.\n",
      "I (AstarSolver) have now finished in 228 moves.\n",
      "I (HeuristicSolver) have now finished in 83 moves.\n",
      "I (RandomBaselineSolver) have now finished in 498 moves.\n",
      "I (CircleBaselineSolver) have now finished in 528 moves.\n",
      "I (HeuristicSolver) have now finished in 83 moves.\n"
     ]
    },
    {
     "name": "stderr",
     "output_type": "stream",
     "text": [
      " 32%|███▏      | 16/50 [00:24<00:49,  1.47s/it]"
     ]
    },
    {
     "name": "stdout",
     "output_type": "stream",
     "text": [
      "I (AstarSolver) have now finished in 388 moves.\n",
      "I (HeuristicSolver) have now finished in 67 moves.\n",
      "I (RandomBaselineSolver) have now finished in 402 moves.\n"
     ]
    },
    {
     "name": "stderr",
     "output_type": "stream",
     "text": [
      " 34%|███▍      | 17/50 [00:24<00:40,  1.24s/it]"
     ]
    },
    {
     "name": "stdout",
     "output_type": "stream",
     "text": [
      "I (CircleBaselineSolver) have now finished in 427 moves.\n",
      "I (HeuristicSolver) have now finished in 67 moves.\n",
      "I (AstarSolver) have now finished in 122 moves.\n",
      "I (HeuristicSolver) have now finished in 126 moves.\n",
      "I (RandomBaselineSolver) have now finished in 511 moves.\n"
     ]
    },
    {
     "name": "stderr",
     "output_type": "stream",
     "text": [
      " 36%|███▌      | 18/50 [00:25<00:38,  1.22s/it]"
     ]
    },
    {
     "name": "stdout",
     "output_type": "stream",
     "text": [
      "I (CircleBaselineSolver) have now finished in 530 moves.\n",
      "I (HeuristicSolver) have now finished in 126 moves.\n",
      "I (AstarSolver) have now finished in 194 moves.\n",
      "I (HeuristicSolver) have now finished in 87 moves.\n",
      "I (RandomBaselineSolver) have now finished in 581 moves.\n"
     ]
    },
    {
     "name": "stderr",
     "output_type": "stream",
     "text": [
      " 38%|███▊      | 19/50 [00:27<00:39,  1.27s/it]"
     ]
    },
    {
     "name": "stdout",
     "output_type": "stream",
     "text": [
      "I (CircleBaselineSolver) have now finished in 588 moves.\n",
      "I (HeuristicSolver) have now finished in 87 moves.\n",
      "I (AstarSolver) have now finished in 191 moves.\n",
      "I (HeuristicSolver) have now finished in 58 moves.\n",
      "I (RandomBaselineSolver) have now finished in 523 moves.\n"
     ]
    },
    {
     "name": "stderr",
     "output_type": "stream",
     "text": [
      " 40%|████      | 20/50 [00:28<00:37,  1.26s/it]"
     ]
    },
    {
     "name": "stdout",
     "output_type": "stream",
     "text": [
      "I (CircleBaselineSolver) have now finished in 556 moves.\n",
      "I (HeuristicSolver) have now finished in 58 moves.\n",
      "I (AstarSolver) have now finished in 244 moves.\n",
      "I (HeuristicSolver) have now finished in 96 moves.\n",
      "I (RandomBaselineSolver) have now finished in 527 moves.\n"
     ]
    },
    {
     "name": "stderr",
     "output_type": "stream",
     "text": [
      " 42%|████▏     | 21/50 [00:30<00:39,  1.38s/it]"
     ]
    },
    {
     "name": "stdout",
     "output_type": "stream",
     "text": [
      "I (CircleBaselineSolver) have now finished in 554 moves.\n",
      "I (HeuristicSolver) have now finished in 96 moves.\n",
      "I (AstarSolver) have now finished in 283 moves.\n",
      "I (HeuristicSolver) have now finished in 82 moves.\n",
      "I (RandomBaselineSolver) have now finished in 513 moves.\n",
      "I (CircleBaselineSolver) have now finished in 522 moves.\n",
      "I (HeuristicSolver) have now finished in 82 moves.\n"
     ]
    },
    {
     "name": "stderr",
     "output_type": "stream",
     "text": [
      " 44%|████▍     | 22/50 [00:32<00:42,  1.51s/it]"
     ]
    },
    {
     "name": "stdout",
     "output_type": "stream",
     "text": [
      "I (AstarSolver) have now finished in 476 moves.\n",
      "I (HeuristicSolver) have now finished in 64 moves.\n",
      "I (RandomBaselineSolver) have now finished in 411 moves.\n"
     ]
    },
    {
     "name": "stderr",
     "output_type": "stream",
     "text": [
      " 46%|████▌     | 23/50 [00:32<00:35,  1.30s/it]"
     ]
    },
    {
     "name": "stdout",
     "output_type": "stream",
     "text": [
      "I (CircleBaselineSolver) have now finished in 471 moves.\n",
      "I (HeuristicSolver) have now finished in 64 moves.\n",
      "I (AstarSolver) have now finished in 177 moves.\n",
      "I (HeuristicSolver) have now finished in 59 moves.\n",
      "I (RandomBaselineSolver) have now finished in 554 moves.\n"
     ]
    },
    {
     "name": "stderr",
     "output_type": "stream",
     "text": [
      " 48%|████▊     | 24/50 [00:34<00:33,  1.29s/it]"
     ]
    },
    {
     "name": "stdout",
     "output_type": "stream",
     "text": [
      "I (CircleBaselineSolver) have now finished in 556 moves.\n",
      "I (HeuristicSolver) have now finished in 59 moves.\n",
      "I (AstarSolver) have now finished in 149 moves.\n",
      "I (HeuristicSolver) have now finished in 71 moves.\n",
      "I (RandomBaselineSolver) have now finished in 566 moves.\n"
     ]
    },
    {
     "name": "stderr",
     "output_type": "stream",
     "text": [
      " 50%|█████     | 25/50 [00:35<00:32,  1.31s/it]"
     ]
    },
    {
     "name": "stdout",
     "output_type": "stream",
     "text": [
      "I (CircleBaselineSolver) have now finished in 579 moves.\n",
      "I (HeuristicSolver) have now finished in 71 moves.\n",
      "I (AstarSolver) have now finished in 233 moves.\n",
      "I (HeuristicSolver) have now finished in 66 moves.\n",
      "I (RandomBaselineSolver) have now finished in 415 moves.\n",
      "I (CircleBaselineSolver) have now finished in 518 moves.\n",
      "I (HeuristicSolver) have now finished in 66 moves.\n"
     ]
    },
    {
     "name": "stderr",
     "output_type": "stream",
     "text": [
      " 52%|█████▏    | 26/50 [00:36<00:29,  1.24s/it]"
     ]
    },
    {
     "name": "stdout",
     "output_type": "stream",
     "text": [
      "I (AstarSolver) have now finished in 379 moves.\n",
      "I (HeuristicSolver) have now finished in 82 moves.\n",
      "I (RandomBaselineSolver) have now finished in 542 moves.\n"
     ]
    },
    {
     "name": "stderr",
     "output_type": "stream",
     "text": [
      " 54%|█████▍    | 27/50 [00:38<00:32,  1.43s/it]"
     ]
    },
    {
     "name": "stdout",
     "output_type": "stream",
     "text": [
      "I (CircleBaselineSolver) have now finished in 567 moves.\n",
      "I (HeuristicSolver) have now finished in 82 moves.\n",
      "I (AstarSolver) have now finished in 168 moves.\n",
      "I (HeuristicSolver) have now finished in 76 moves.\n",
      "I (RandomBaselineSolver) have now finished in 507 moves.\n"
     ]
    },
    {
     "name": "stderr",
     "output_type": "stream",
     "text": [
      " 56%|█████▌    | 28/50 [00:39<00:29,  1.34s/it]"
     ]
    },
    {
     "name": "stdout",
     "output_type": "stream",
     "text": [
      "I (CircleBaselineSolver) have now finished in 537 moves.\n",
      "I (HeuristicSolver) have now finished in 76 moves.\n",
      "I (AstarSolver) have now finished in 183 moves.\n",
      "I (HeuristicSolver) have now finished in 87 moves.\n",
      "I (RandomBaselineSolver) have now finished in 439 moves.\n"
     ]
    },
    {
     "name": "stderr",
     "output_type": "stream",
     "text": [
      " 58%|█████▊    | 29/50 [00:41<00:30,  1.45s/it]"
     ]
    },
    {
     "name": "stdout",
     "output_type": "stream",
     "text": [
      "I (CircleBaselineSolver) have now finished in 574 moves.\n",
      "I (HeuristicSolver) have now finished in 87 moves.\n",
      "I (AstarSolver) have now finished in 202 moves.\n",
      "I (HeuristicSolver) have now finished in 146 moves.\n",
      "I (RandomBaselineSolver) have now finished in 558 moves.\n",
      "I (CircleBaselineSolver) have now finished in 591 moves.\n",
      "I (HeuristicSolver) have now finished in 146 moves.\n"
     ]
    },
    {
     "name": "stderr",
     "output_type": "stream",
     "text": [
      " 60%|██████    | 30/50 [00:42<00:29,  1.50s/it]"
     ]
    },
    {
     "name": "stdout",
     "output_type": "stream",
     "text": [
      "I (AstarSolver) have now finished in 389 moves.\n",
      "I (HeuristicSolver) have now finished in 98 moves.\n",
      "I (RandomBaselineSolver) have now finished in 517 moves.\n",
      "I (CircleBaselineSolver) have now finished in 558 moves.\n",
      "I (HeuristicSolver) have now finished in 98 moves.\n"
     ]
    },
    {
     "name": "stderr",
     "output_type": "stream",
     "text": [
      " 62%|██████▏   | 31/50 [00:44<00:30,  1.61s/it]"
     ]
    },
    {
     "name": "stdout",
     "output_type": "stream",
     "text": [
      "I (AstarSolver) have now finished in 434 moves.\n",
      "I (HeuristicSolver) have now finished in 126 moves.\n",
      "I (RandomBaselineSolver) have now finished in 491 moves.\n",
      "I (CircleBaselineSolver) have now finished in 488 moves.\n",
      "I (HeuristicSolver) have now finished in 126 moves.\n"
     ]
    },
    {
     "name": "stderr",
     "output_type": "stream",
     "text": [
      " 64%|██████▍   | 32/50 [00:45<00:26,  1.49s/it]"
     ]
    },
    {
     "name": "stdout",
     "output_type": "stream",
     "text": [
      "I (AstarSolver) have now finished in 379 moves.\n",
      "I (HeuristicSolver) have now finished in 67 moves.\n",
      "I (RandomBaselineSolver) have now finished in 565 moves.\n"
     ]
    },
    {
     "name": "stderr",
     "output_type": "stream",
     "text": [
      " 66%|██████▌   | 33/50 [00:47<00:24,  1.46s/it]"
     ]
    },
    {
     "name": "stdout",
     "output_type": "stream",
     "text": [
      "I (CircleBaselineSolver) have now finished in 560 moves.\n",
      "I (HeuristicSolver) have now finished in 67 moves.\n",
      "I (AstarSolver) have now finished in 94 moves.\n",
      "I (HeuristicSolver) have now finished in 253 moves.\n",
      "I (RandomBaselineSolver) have now finished in 586 moves.\n",
      "I (CircleBaselineSolver) have now finished in 592 moves.\n",
      "I (HeuristicSolver) have now finished in 253 moves.\n"
     ]
    },
    {
     "name": "stderr",
     "output_type": "stream",
     "text": [
      " 68%|██████▊   | 34/50 [00:49<00:26,  1.68s/it]"
     ]
    },
    {
     "name": "stdout",
     "output_type": "stream",
     "text": [
      "I (AstarSolver) have now finished in 561 moves.\n",
      "I (HeuristicSolver) have now finished in 64 moves.\n",
      "I (RandomBaselineSolver) have now finished in 571 moves.\n",
      "I (CircleBaselineSolver) have now finished in 550 moves.\n",
      "I (HeuristicSolver) have now finished in 64 moves.\n"
     ]
    },
    {
     "name": "stderr",
     "output_type": "stream",
     "text": [
      " 70%|███████   | 35/50 [00:50<00:24,  1.62s/it]"
     ]
    },
    {
     "name": "stdout",
     "output_type": "stream",
     "text": [
      "I (AstarSolver) have now finished in 387 moves.\n",
      "I (HeuristicSolver) have now finished in 61 moves.\n",
      "I (RandomBaselineSolver) have now finished in 593 moves.\n"
     ]
    },
    {
     "name": "stderr",
     "output_type": "stream",
     "text": [
      " 72%|███████▏  | 36/50 [00:52<00:22,  1.63s/it]"
     ]
    },
    {
     "name": "stdout",
     "output_type": "stream",
     "text": [
      "I (CircleBaselineSolver) have now finished in 565 moves.\n",
      "I (HeuristicSolver) have now finished in 61 moves.\n",
      "I (AstarSolver) have now finished in 163 moves.\n",
      "I (HeuristicSolver) have now finished in 58 moves.\n",
      "I (RandomBaselineSolver) have now finished in 581 moves.\n"
     ]
    },
    {
     "name": "stderr",
     "output_type": "stream",
     "text": [
      " 74%|███████▍  | 37/50 [00:53<00:19,  1.53s/it]"
     ]
    },
    {
     "name": "stdout",
     "output_type": "stream",
     "text": [
      "I (CircleBaselineSolver) have now finished in 574 moves.\n",
      "I (HeuristicSolver) have now finished in 58 moves.\n",
      "I (AstarSolver) have now finished in 103 moves.\n",
      "I (HeuristicSolver) have now finished in 111 moves.\n",
      "I (RandomBaselineSolver) have now finished in 448 moves.\n"
     ]
    },
    {
     "name": "stderr",
     "output_type": "stream",
     "text": [
      " 76%|███████▌  | 38/50 [00:55<00:19,  1.65s/it]"
     ]
    },
    {
     "name": "stdout",
     "output_type": "stream",
     "text": [
      "I (CircleBaselineSolver) have now finished in 572 moves.\n",
      "I (HeuristicSolver) have now finished in 111 moves.\n",
      "I (AstarSolver) have now finished in 263 moves.\n",
      "I (HeuristicSolver) have now finished in 82 moves.\n",
      "I (RandomBaselineSolver) have now finished in 626 moves.\n"
     ]
    },
    {
     "name": "stderr",
     "output_type": "stream",
     "text": [
      " 78%|███████▊  | 39/50 [00:57<00:19,  1.74s/it]"
     ]
    },
    {
     "name": "stdout",
     "output_type": "stream",
     "text": [
      "I (CircleBaselineSolver) have now finished in 611 moves.\n",
      "I (HeuristicSolver) have now finished in 82 moves.\n",
      "I (AstarSolver) have now finished in 209 moves.\n",
      "I (HeuristicSolver) have now finished in 183 moves.\n",
      "I (RandomBaselineSolver) have now finished in 455 moves.\n",
      "I (CircleBaselineSolver) have now finished in 482 moves.\n",
      "I (HeuristicSolver) have now finished in 183 moves.\n"
     ]
    },
    {
     "name": "stderr",
     "output_type": "stream",
     "text": [
      " 80%|████████  | 40/50 [00:58<00:15,  1.56s/it]"
     ]
    },
    {
     "name": "stdout",
     "output_type": "stream",
     "text": [
      "I (AstarSolver) have now finished in 313 moves.\n",
      "I (HeuristicSolver) have now finished in 143 moves.\n",
      "I (RandomBaselineSolver) have now finished in 548 moves.\n",
      "I (CircleBaselineSolver) have now finished in 568 moves.\n",
      "I (HeuristicSolver) have now finished in 143 moves.\n"
     ]
    },
    {
     "name": "stderr",
     "output_type": "stream",
     "text": [
      " 82%|████████▏ | 41/50 [01:00<00:13,  1.53s/it]"
     ]
    },
    {
     "name": "stdout",
     "output_type": "stream",
     "text": [
      "I (AstarSolver) have now finished in 321 moves.\n",
      "I (HeuristicSolver) have now finished in 114 moves.\n",
      "I (RandomBaselineSolver) have now finished in 518 moves.\n"
     ]
    },
    {
     "name": "stderr",
     "output_type": "stream",
     "text": [
      " 84%|████████▍ | 42/50 [01:01<00:11,  1.41s/it]"
     ]
    },
    {
     "name": "stdout",
     "output_type": "stream",
     "text": [
      "I (CircleBaselineSolver) have now finished in 499 moves.\n",
      "I (HeuristicSolver) have now finished in 114 moves.\n",
      "I (AstarSolver) have now finished in 150 moves.\n",
      "I (HeuristicSolver) have now finished in 204 moves.\n",
      "I (RandomBaselineSolver) have now finished in 623 moves.\n",
      "I (CircleBaselineSolver) have now finished in 637 moves.\n",
      "I (HeuristicSolver) have now finished in 204 moves.\n"
     ]
    },
    {
     "name": "stderr",
     "output_type": "stream",
     "text": [
      " 86%|████████▌ | 43/50 [01:03<00:11,  1.63s/it]"
     ]
    },
    {
     "name": "stdout",
     "output_type": "stream",
     "text": [
      "I (AstarSolver) have now finished in 488 moves.\n",
      "I (HeuristicSolver) have now finished in 161 moves.\n",
      "I (RandomBaselineSolver) have now finished in 594 moves.\n",
      "I (CircleBaselineSolver) have now finished in 592 moves.\n",
      "I (HeuristicSolver) have now finished in 161 moves.\n"
     ]
    },
    {
     "name": "stderr",
     "output_type": "stream",
     "text": [
      " 88%|████████▊ | 44/50 [01:05<00:09,  1.63s/it]"
     ]
    },
    {
     "name": "stdout",
     "output_type": "stream",
     "text": [
      "I (AstarSolver) have now finished in 343 moves.\n",
      "I (HeuristicSolver) have now finished in 61 moves.\n",
      "I (RandomBaselineSolver) have now finished in 546 moves.\n"
     ]
    },
    {
     "name": "stderr",
     "output_type": "stream",
     "text": [
      " 90%|█████████ | 45/50 [01:06<00:07,  1.55s/it]"
     ]
    },
    {
     "name": "stdout",
     "output_type": "stream",
     "text": [
      "I (CircleBaselineSolver) have now finished in 583 moves.\n",
      "I (HeuristicSolver) have now finished in 61 moves.\n",
      "I (AstarSolver) have now finished in 170 moves.\n",
      "I (HeuristicSolver) have now finished in 52 moves.\n",
      "I (RandomBaselineSolver) have now finished in 295 moves.\n"
     ]
    },
    {
     "name": "stderr",
     "output_type": "stream",
     "text": [
      " 92%|█████████▏| 46/50 [01:07<00:05,  1.28s/it]"
     ]
    },
    {
     "name": "stdout",
     "output_type": "stream",
     "text": [
      "I (CircleBaselineSolver) have now finished in 425 moves.\n",
      "I (HeuristicSolver) have now finished in 52 moves.\n",
      "I (AstarSolver) have now finished in 226 moves.\n",
      "I (HeuristicSolver) have now finished in 76 moves.\n",
      "I (RandomBaselineSolver) have now finished in 632 moves.\n"
     ]
    },
    {
     "name": "stderr",
     "output_type": "stream",
     "text": [
      " 94%|█████████▍| 47/50 [01:08<00:04,  1.39s/it]"
     ]
    },
    {
     "name": "stdout",
     "output_type": "stream",
     "text": [
      "I (CircleBaselineSolver) have now finished in 614 moves.\n",
      "I (HeuristicSolver) have now finished in 76 moves.\n",
      "I (AstarSolver) have now finished in 258 moves.\n",
      "I (HeuristicSolver) have now finished in 91 moves.\n",
      "I (RandomBaselineSolver) have now finished in 617 moves.\n"
     ]
    },
    {
     "name": "stderr",
     "output_type": "stream",
     "text": [
      " 96%|█████████▌| 48/50 [01:11<00:03,  1.63s/it]"
     ]
    },
    {
     "name": "stdout",
     "output_type": "stream",
     "text": [
      "I (CircleBaselineSolver) have now finished in 589 moves.\n",
      "I (HeuristicSolver) have now finished in 91 moves.\n",
      "I (AstarSolver) have now finished in 209 moves.\n",
      "I (HeuristicSolver) have now finished in 60 moves.\n",
      "I (RandomBaselineSolver) have now finished in 539 moves.\n"
     ]
    },
    {
     "name": "stderr",
     "output_type": "stream",
     "text": [
      " 98%|█████████▊| 49/50 [01:12<00:01,  1.49s/it]"
     ]
    },
    {
     "name": "stdout",
     "output_type": "stream",
     "text": [
      "I (CircleBaselineSolver) have now finished in 534 moves.\n",
      "I (HeuristicSolver) have now finished in 60 moves.\n",
      "I (AstarSolver) have now finished in 166 moves.\n",
      "I (HeuristicSolver) have now finished in 76 moves.\n",
      "I (RandomBaselineSolver) have now finished in 485 moves.\n"
     ]
    },
    {
     "name": "stderr",
     "output_type": "stream",
     "text": [
      "100%|██████████| 50/50 [01:13<00:00,  1.47s/it]"
     ]
    },
    {
     "name": "stdout",
     "output_type": "stream",
     "text": [
      "I (CircleBaselineSolver) have now finished in 497 moves.\n",
      "I (HeuristicSolver) have now finished in 76 moves.\n",
      "I (AstarSolver) have now finished in 204 moves.\n"
     ]
    },
    {
     "name": "stderr",
     "output_type": "stream",
     "text": [
      "\n"
     ]
    }
   ],
   "source": [
    "for iteration in tqdm(range(iterations)):\n",
    "    grid, grid0, begin_node, end_node = get_valid_grid(number_tiles_horizontal, number_tiles_vertical, info=False)\n",
    "    solvers = init_solvers(begin_node, end_node, number_tiles_horizontal, number_tiles_vertical)\n",
    "    for i, solver in enumerate(solvers):\n",
    "        grid = copy.deepcopy(grid0)\n",
    "        solver = solvers[i]\n",
    "        returned = begin_node\n",
    "        while not isinstance(returned, list):\n",
    "            color_node(returned, grid)\n",
    "            returned = solver.one_step(grid)\n",
    "        stats[i][0].append(solver.moves)\n",
    "        stats[i][1].append(solver.path_length)\n"
   ]
  },
  {
   "cell_type": "code",
   "execution_count": 21,
   "metadata": {},
   "outputs": [],
   "source": [
    "import matplotlib.pyplot as plt\n",
    "import numpy as np\n",
    "\n",
    "names = [\"Random\", \"Circular\", \"Heuristic\", \"A*\"]"
   ]
  },
  {
   "cell_type": "code",
   "execution_count": 28,
   "metadata": {},
   "outputs": [
    {
     "name": "stdout",
     "output_type": "stream",
     "text": [
      "Random\n",
      "Moves:  498.1730769230769 94.43734617232212\n",
      "Path:  65.4423076923077 9.434823918169533\n"
     ]
    },
    {
     "data": {
      "image/png": "[encoded data removed]",
      "text/plain": [
       "<Figure size 640x480 with 1 Axes>"
      ]
     },
     "metadata": {},
     "output_type": "display_data"
    },
    {
     "data": {
      "image/png": "[encoded data removed]",
      "text/plain": [
       "<Figure size 640x480 with 1 Axes>"
      ]
     },
     "metadata": {},
     "output_type": "display_data"
    },
    {
     "name": "stdout",
     "output_type": "stream",
     "text": [
      "Circular\n",
      "Moves:  541.2352941176471 61.96855250385714\n",
      "Path:  61.6078431372549 11.082716505977436\n"
     ]
    },
    {
     "data": {
      "image/png": "[encoded data removed]",
      "text/plain": [
       "<Figure size 640x480 with 1 Axes>"
      ]
     },
     "metadata": {},
     "output_type": "display_data"
    },
    {
     "data": {
      "image/png": "[encoded data removed]",
      "text/plain": [
       "<Figure size 640x480 with 1 Axes>"
      ]
     },
     "metadata": {},
     "output_type": "display_data"
    },
    {
     "name": "stdout",
     "output_type": "stream",
     "text": [
      "Heuristic\n",
      "Moves:  96.84313725490196 42.7584976299378\n",
      "Path:  62.07843137254902 10.07782099318997\n"
     ]
    },
    {
     "data": {
      "image/png": "[encoded data removed]",
      "text/plain": [
       "<Figure size 640x480 with 1 Axes>"
      ]
     },
     "metadata": {},
     "output_type": "display_data"
    },
    {
     "data": {
      "image/png": "[encoded data removed]",
      "text/plain": [
       "<Figure size 640x480 with 1 Axes>"
      ]
     },
     "metadata": {},
     "output_type": "display_data"
    },
    {
     "name": "stdout",
     "output_type": "stream",
     "text": [
      "A*\n",
      "Moves:  263.5098039215686 105.23165343315328\n",
      "Path:  61.84313725490196 9.979140104059828\n"
     ]
    },
    {
     "data": {
      "image/png": "[encoded data removed]",
      "text/plain": [
       "<Figure size 640x480 with 1 Axes>"
      ]
     },
     "metadata": {},
     "output_type": "display_data"
    },
    {
     "data": {
      "image/png": "[encoded data removed]",
      "text/plain": [
       "<Figure size 640x480 with 1 Axes>"
      ]
     },
     "metadata": {},
     "output_type": "display_data"
    }
   ],
   "source": [
    "def create_histograms(data, names):\n",
    "    for i, tup in enumerate(data):\n",
    "        mean_moves = np.mean(tup[0])\n",
    "        std_moves = np.std(tup[0])\n",
    "        mean_path = np.mean(tup[1])\n",
    "        std_path = np.std(tup[1])\n",
    "        print(names[i])\n",
    "        print(\"Moves: \", mean_moves, std_moves)\n",
    "        print(\"Path: \", mean_path, std_path)\n",
    "\n",
    "        plt.hist(tup[0], bins=10, color='skyblue', edgecolor='black')\n",
    "        plt.title('Length of Moves')\n",
    "        plt.xlabel('Value')\n",
    "        plt.ylabel('Frequency')\n",
    "        plt.tight_layout()\n",
    "\n",
    "        plt.show()\n",
    "\n",
    "        plt.hist(tup[1], bins=10, color='skyblue', edgecolor='black')\n",
    "        plt.title('Length of Path')\n",
    "        plt.xlabel('Value')\n",
    "        plt.ylabel('Frequency')\n",
    "        plt.tight_layout()\n",
    "\n",
    "        plt.show()\n",
    "\n",
    "create_histograms(stats, names)"
   ]
  },
  {
   "cell_type": "code",
   "execution_count": null,
   "metadata": {},
   "outputs": [],
   "source": []
  }
 ],
 "metadata": {
  "kernelspec": {
   "display_name": "Python 3.11.2 64-bit",
   "language": "python",
   "name": "python3"
  },
  "language_info": {
   "codemirror_mode": {
    "name": "ipython",
    "version": 3
   },
   "file_extension": ".py",
   "mimetype": "text/x-python",
   "name": "python",
   "nbconvert_exporter": "python",
   "pygments_lexer": "ipython3",
   "version": "3.11.2"
  },
  "orig_nbformat": 4,
  "vscode": {
   "interpreter": {
    "hash": "b0fa6594d8f4cbf19f97940f81e996739fb7646882a419484c72d19e05852a7e"
   }
  }
 },
 "nbformat": 4,
 "nbformat_minor": 2
}
