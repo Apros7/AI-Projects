{
 "cells": [
  {
   "cell_type": "code",
   "execution_count": 1,
   "metadata": {},
   "outputs": [
    {
     "name": "stdout",
     "output_type": "stream",
     "text": [
      "pygame 2.5.0 (SDL 2.28.0, Python 3.11.2)\n",
      "Hello from the pygame community. https://www.pygame.org/contribute.html\n"
     ]
    }
   ],
   "source": [
    "import pickle\n",
    "import copy\n",
    "from simulation import init_solvers, color_node, get_valid_grid\n",
    "from tqdm import tqdm\n",
    "stats = [([], []), ([], []), ([], []), ([], [])]\n",
    "number_tiles_horizontal = 40\n",
    "number_tiles_vertical = 25"
   ]
  },
  {
   "cell_type": "code",
   "execution_count": 2,
   "metadata": {},
   "outputs": [],
   "source": [
    "iterations = 50"
   ]
  },
  {
   "cell_type": "markdown",
   "metadata": {},
   "source": [
    "##### Getting stats:"
   ]
  },
  {
   "cell_type": "code",
   "execution_count": 3,
   "metadata": {},
   "outputs": [
    {
     "name": "stderr",
     "output_type": "stream",
     "text": [
      "  0%|          | 0/50 [00:00<?, ?it/s]"
     ]
    },
    {
     "name": "stdout",
     "output_type": "stream",
     "text": [
      "I (HeuristicSolver) have now finished in 139 moves.\n",
      "I (RandomBaselineSolver) have now finished in 383 moves.\n"
     ]
    },
    {
     "name": "stderr",
     "output_type": "stream",
     "text": [
      "  2%|▏         | 1/50 [00:01<01:17,  1.58s/it]"
     ]
    },
    {
     "name": "stdout",
     "output_type": "stream",
     "text": [
      "I (CircleBaselineSolver) have now finished in 458 moves.\n",
      "I (HeuristicSolver) have now finished in 139 moves.\n",
      "I (AstarSolver) have now finished in 187 moves.\n",
      "I (HeuristicSolver) have now finished in 180 moves.\n",
      "I (RandomBaselineSolver) have now finished in 409 moves.\n",
      "I (CircleBaselineSolver) have now finished in 474 moves.\n",
      "I (HeuristicSolver) have now finished in 180 moves.\n"
     ]
    },
    {
     "name": "stderr",
     "output_type": "stream",
     "text": [
      "  4%|▍         | 2/50 [00:02<01:04,  1.34s/it]"
     ]
    },
    {
     "name": "stdout",
     "output_type": "stream",
     "text": [
      "I (AstarSolver) have now finished in 385 moves.\n",
      "I (HeuristicSolver) have now finished in 105 moves.\n",
      "I (RandomBaselineSolver) have now finished in 358 moves.\n",
      "I (CircleBaselineSolver) have now finished in 415 moves.\n",
      "I (HeuristicSolver) have now finished in 105 moves.\n"
     ]
    },
    {
     "name": "stderr",
     "output_type": "stream",
     "text": [
      "  6%|▌         | 3/50 [00:03<00:51,  1.10s/it]"
     ]
    },
    {
     "name": "stdout",
     "output_type": "stream",
     "text": [
      "I (AstarSolver) have now finished in 354 moves.\n",
      "I (HeuristicSolver) have now finished in 109 moves.\n",
      "I (RandomBaselineSolver) have now finished in 383 moves.\n"
     ]
    },
    {
     "name": "stderr",
     "output_type": "stream",
     "text": [
      "  8%|▊         | 4/50 [00:04<00:55,  1.21s/it]"
     ]
    },
    {
     "name": "stdout",
     "output_type": "stream",
     "text": [
      "I (CircleBaselineSolver) have now finished in 426 moves.\n",
      "I (HeuristicSolver) have now finished in 109 moves.\n",
      "I (AstarSolver) have now finished in 219 moves.\n",
      "I (HeuristicSolver) have now finished in 104 moves.\n",
      "I (RandomBaselineSolver) have now finished in 357 moves.\n",
      "I (CircleBaselineSolver) have now finished in 376 moves.\n"
     ]
    },
    {
     "name": "stderr",
     "output_type": "stream",
     "text": [
      " 10%|█         | 5/50 [00:05<00:50,  1.12s/it]"
     ]
    },
    {
     "name": "stdout",
     "output_type": "stream",
     "text": [
      "I (HeuristicSolver) have now finished in 104 moves.\n",
      "I (AstarSolver) have now finished in 207 moves.\n",
      "I (HeuristicSolver) have now finished in 99 moves.\n",
      "I (RandomBaselineSolver) have now finished in 446 moves.\n"
     ]
    },
    {
     "name": "stderr",
     "output_type": "stream",
     "text": [
      " 12%|█▏        | 6/50 [00:08<01:13,  1.67s/it]"
     ]
    },
    {
     "name": "stdout",
     "output_type": "stream",
     "text": [
      "I (CircleBaselineSolver) have now finished in 505 moves.\n",
      "I (HeuristicSolver) have now finished in 99 moves.\n",
      "I (AstarSolver) have now finished in 276 moves.\n",
      "I (HeuristicSolver) have now finished in 79 moves.\n",
      "I (RandomBaselineSolver) have now finished in 286 moves.\n"
     ]
    },
    {
     "name": "stderr",
     "output_type": "stream",
     "text": [
      " 14%|█▍        | 7/50 [00:09<00:55,  1.30s/it]"
     ]
    },
    {
     "name": "stdout",
     "output_type": "stream",
     "text": [
      "I (CircleBaselineSolver) have now finished in 289 moves.\n",
      "I (HeuristicSolver) have now finished in 79 moves.\n",
      "I (AstarSolver) have now finished in 200 moves.\n",
      "I (HeuristicSolver) have now finished in 51 moves.\n",
      "I (RandomBaselineSolver) have now finished in 432 moves.\n"
     ]
    },
    {
     "name": "stderr",
     "output_type": "stream",
     "text": [
      " 16%|█▌        | 8/50 [00:10<00:52,  1.26s/it]"
     ]
    },
    {
     "name": "stdout",
     "output_type": "stream",
     "text": [
      "I (CircleBaselineSolver) have now finished in 454 moves.\n",
      "I (HeuristicSolver) have now finished in 51 moves.\n",
      "I (AstarSolver) have now finished in 143 moves.\n",
      "I (HeuristicSolver) have now finished in 58 moves.\n",
      "I (RandomBaselineSolver) have now finished in 360 moves.\n",
      "I (CircleBaselineSolver) have now finished in 368 moves.\n",
      "I (HeuristicSolver) have now finished in 58 moves.\n"
     ]
    },
    {
     "name": "stderr",
     "output_type": "stream",
     "text": [
      " 18%|█▊        | 9/50 [00:11<00:44,  1.09s/it]"
     ]
    },
    {
     "name": "stdout",
     "output_type": "stream",
     "text": [
      "I (AstarSolver) have now finished in 141 moves.\n",
      "I (HeuristicSolver) have now finished in 148 moves.\n",
      "I (RandomBaselineSolver) have now finished in 411 moves.\n"
     ]
    },
    {
     "name": "stderr",
     "output_type": "stream",
     "text": [
      " 20%|██        | 10/50 [00:12<00:45,  1.13s/it]"
     ]
    },
    {
     "name": "stdout",
     "output_type": "stream",
     "text": [
      "I (CircleBaselineSolver) have now finished in 411 moves.\n",
      "I (HeuristicSolver) have now finished in 148 moves.\n",
      "I (AstarSolver) have now finished in 220 moves.\n",
      "I (HeuristicSolver) have now finished in 80 moves.\n",
      "I (RandomBaselineSolver) have now finished in 481 moves.\n"
     ]
    },
    {
     "name": "stderr",
     "output_type": "stream",
     "text": [
      " 22%|██▏       | 11/50 [00:13<00:43,  1.12s/it]"
     ]
    },
    {
     "name": "stdout",
     "output_type": "stream",
     "text": [
      "I (CircleBaselineSolver) have now finished in 491 moves.\n",
      "I (HeuristicSolver) have now finished in 80 moves.\n",
      "I (AstarSolver) have now finished in 274 moves.\n",
      "I (HeuristicSolver) have now finished in 148 moves.\n",
      "I (RandomBaselineSolver) have now finished in 412 moves.\n"
     ]
    },
    {
     "name": "stderr",
     "output_type": "stream",
     "text": [
      " 24%|██▍       | 12/50 [00:14<00:39,  1.05s/it]"
     ]
    },
    {
     "name": "stdout",
     "output_type": "stream",
     "text": [
      "I (CircleBaselineSolver) have now finished in 432 moves.\n",
      "I (HeuristicSolver) have now finished in 148 moves.\n",
      "I (AstarSolver) have now finished in 276 moves.\n",
      "I (HeuristicSolver) have now finished in 164 moves.\n",
      "I (RandomBaselineSolver) have now finished in 520 moves.\n",
      "I (CircleBaselineSolver) have now finished in 511 moves.\n",
      "I (HeuristicSolver) have now finished in 164 moves.\n"
     ]
    },
    {
     "name": "stderr",
     "output_type": "stream",
     "text": [
      " 26%|██▌       | 13/50 [00:16<00:55,  1.51s/it]"
     ]
    },
    {
     "name": "stdout",
     "output_type": "stream",
     "text": [
      "I (AstarSolver) have now finished in 373 moves.\n",
      "I (HeuristicSolver) have now finished in 83 moves.\n",
      "I (RandomBaselineSolver) have now finished in 260 moves.\n"
     ]
    },
    {
     "name": "stderr",
     "output_type": "stream",
     "text": [
      " 28%|██▊       | 14/50 [00:17<00:44,  1.24s/it]"
     ]
    },
    {
     "name": "stdout",
     "output_type": "stream",
     "text": [
      "I (CircleBaselineSolver) have now finished in 400 moves.\n",
      "I (HeuristicSolver) have now finished in 83 moves.\n",
      "I (AstarSolver) have now finished in 256 moves.\n",
      "I (HeuristicSolver) have now finished in 65 moves.\n",
      "I (RandomBaselineSolver) have now finished in 489 moves.\n"
     ]
    },
    {
     "name": "stderr",
     "output_type": "stream",
     "text": [
      " 30%|███       | 15/50 [00:18<00:44,  1.26s/it]"
     ]
    },
    {
     "name": "stdout",
     "output_type": "stream",
     "text": [
      "I (CircleBaselineSolver) have now finished in 514 moves.\n",
      "I (HeuristicSolver) have now finished in 65 moves.\n",
      "I (AstarSolver) have now finished in 316 moves.\n",
      "I (HeuristicSolver) have now finished in 64 moves.\n",
      "I (RandomBaselineSolver) have now finished in 328 moves.\n"
     ]
    },
    {
     "name": "stderr",
     "output_type": "stream",
     "text": [
      " 32%|███▏      | 16/50 [00:19<00:35,  1.04s/it]"
     ]
    },
    {
     "name": "stdout",
     "output_type": "stream",
     "text": [
      "I (CircleBaselineSolver) have now finished in 398 moves.\n",
      "I (HeuristicSolver) have now finished in 64 moves.\n",
      "I (AstarSolver) have now finished in 107 moves.\n",
      "I (HeuristicSolver) have now finished in 115 moves.\n",
      "I (RandomBaselineSolver) have now finished in 259 moves.\n"
     ]
    },
    {
     "name": "stderr",
     "output_type": "stream",
     "text": [
      " 34%|███▍      | 17/50 [00:20<00:34,  1.05s/it]"
     ]
    },
    {
     "name": "stdout",
     "output_type": "stream",
     "text": [
      "I (CircleBaselineSolver) have now finished in 277 moves.\n",
      "I (HeuristicSolver) have now finished in 115 moves.\n",
      "I (AstarSolver) have now finished in 151 moves.\n",
      "I (HeuristicSolver) have now finished in 48 moves.\n",
      "I (RandomBaselineSolver) have now finished in 420 moves.\n"
     ]
    },
    {
     "name": "stderr",
     "output_type": "stream",
     "text": [
      " 36%|███▌      | 18/50 [00:22<00:40,  1.26s/it]"
     ]
    },
    {
     "name": "stdout",
     "output_type": "stream",
     "text": [
      "I (CircleBaselineSolver) have now finished in 399 moves.\n",
      "I (HeuristicSolver) have now finished in 48 moves.\n",
      "I (AstarSolver) have now finished in 98 moves.\n",
      "I (HeuristicSolver) have now finished in 66 moves.\n",
      "I (RandomBaselineSolver) have now finished in 403 moves.\n"
     ]
    },
    {
     "name": "stderr",
     "output_type": "stream",
     "text": [
      " 38%|███▊      | 19/50 [00:22<00:34,  1.11s/it]"
     ]
    },
    {
     "name": "stdout",
     "output_type": "stream",
     "text": [
      "I (CircleBaselineSolver) have now finished in 421 moves.\n",
      "I (HeuristicSolver) have now finished in 66 moves.\n",
      "I (AstarSolver) have now finished in 249 moves.\n",
      "I (HeuristicSolver) have now finished in 93 moves.\n",
      "I (RandomBaselineSolver) have now finished in 509 moves.\n"
     ]
    },
    {
     "name": "stderr",
     "output_type": "stream",
     "text": [
      " 40%|████      | 20/50 [00:24<00:35,  1.18s/it]"
     ]
    },
    {
     "name": "stdout",
     "output_type": "stream",
     "text": [
      "I (CircleBaselineSolver) have now finished in 537 moves.\n",
      "I (HeuristicSolver) have now finished in 93 moves.\n",
      "I (AstarSolver) have now finished in 158 moves.\n",
      "I (HeuristicSolver) have now finished in 67 moves.\n",
      "I (RandomBaselineSolver) have now finished in 214 moves.\n"
     ]
    },
    {
     "name": "stderr",
     "output_type": "stream",
     "text": [
      " 42%|████▏     | 21/50 [00:24<00:29,  1.02s/it]"
     ]
    },
    {
     "name": "stdout",
     "output_type": "stream",
     "text": [
      "I (CircleBaselineSolver) have now finished in 271 moves.\n",
      "I (HeuristicSolver) have now finished in 67 moves.\n",
      "I (AstarSolver) have now finished in 140 moves.\n",
      "I (HeuristicSolver) have now finished in 92 moves.\n",
      "I (RandomBaselineSolver) have now finished in 407 moves.\n"
     ]
    },
    {
     "name": "stderr",
     "output_type": "stream",
     "text": [
      " 44%|████▍     | 22/50 [00:26<00:30,  1.09s/it]"
     ]
    },
    {
     "name": "stdout",
     "output_type": "stream",
     "text": [
      "I (CircleBaselineSolver) have now finished in 410 moves.\n",
      "I (HeuristicSolver) have now finished in 92 moves.\n",
      "I (AstarSolver) have now finished in 240 moves.\n",
      "I (HeuristicSolver) have now finished in 102 moves.\n",
      "I (RandomBaselineSolver) have now finished in 281 moves.\n"
     ]
    },
    {
     "name": "stderr",
     "output_type": "stream",
     "text": [
      " 46%|████▌     | 23/50 [00:26<00:25,  1.05it/s]"
     ]
    },
    {
     "name": "stdout",
     "output_type": "stream",
     "text": [
      "I (CircleBaselineSolver) have now finished in 385 moves.\n",
      "I (HeuristicSolver) have now finished in 102 moves.\n",
      "I (AstarSolver) have now finished in 234 moves.\n",
      "I (HeuristicSolver) have now finished in 61 moves.\n",
      "I (RandomBaselineSolver) have now finished in 478 moves.\n"
     ]
    },
    {
     "name": "stderr",
     "output_type": "stream",
     "text": [
      " 48%|████▊     | 24/50 [00:27<00:24,  1.07it/s]"
     ]
    },
    {
     "name": "stdout",
     "output_type": "stream",
     "text": [
      "I (CircleBaselineSolver) have now finished in 463 moves.\n",
      "I (HeuristicSolver) have now finished in 61 moves.\n",
      "I (AstarSolver) have now finished in 197 moves.\n",
      "I (HeuristicSolver) have now finished in 143 moves.\n",
      "I (RandomBaselineSolver) have now finished in 304 moves.\n"
     ]
    },
    {
     "name": "stderr",
     "output_type": "stream",
     "text": [
      " 50%|█████     | 25/50 [00:28<00:22,  1.11it/s]"
     ]
    },
    {
     "name": "stdout",
     "output_type": "stream",
     "text": [
      "I (CircleBaselineSolver) have now finished in 318 moves.\n",
      "I (HeuristicSolver) have now finished in 143 moves.\n",
      "I (AstarSolver) have now finished in 270 moves.\n",
      "I (HeuristicSolver) have now finished in 153 moves.\n",
      "I (RandomBaselineSolver) have now finished in 471 moves.\n",
      "I (CircleBaselineSolver) have now finished in 461 moves.\n",
      "I (HeuristicSolver) have now finished in 153 moves.\n"
     ]
    },
    {
     "name": "stderr",
     "output_type": "stream",
     "text": [
      " 52%|█████▏    | 26/50 [00:29<00:24,  1.02s/it]"
     ]
    },
    {
     "name": "stdout",
     "output_type": "stream",
     "text": [
      "I (AstarSolver) have now finished in 442 moves.\n",
      "I (HeuristicSolver) have now finished in 74 moves.\n",
      "I (RandomBaselineSolver) have now finished in 244 moves.\n"
     ]
    },
    {
     "name": "stderr",
     "output_type": "stream",
     "text": [
      " 54%|█████▍    | 27/50 [00:30<00:18,  1.25it/s]"
     ]
    },
    {
     "name": "stdout",
     "output_type": "stream",
     "text": [
      "I (CircleBaselineSolver) have now finished in 269 moves.\n",
      "I (HeuristicSolver) have now finished in 74 moves.\n",
      "I (AstarSolver) have now finished in 155 moves.\n",
      "I (HeuristicSolver) have now finished in 108 moves.\n",
      "I (RandomBaselineSolver) have now finished in 463 moves.\n"
     ]
    },
    {
     "name": "stderr",
     "output_type": "stream",
     "text": [
      " 56%|█████▌    | 28/50 [00:31<00:18,  1.17it/s]"
     ]
    },
    {
     "name": "stdout",
     "output_type": "stream",
     "text": [
      "I (CircleBaselineSolver) have now finished in 473 moves.\n",
      "I (HeuristicSolver) have now finished in 108 moves.\n",
      "I (AstarSolver) have now finished in 257 moves.\n",
      "I (HeuristicSolver) have now finished in 172 moves.\n",
      "I (RandomBaselineSolver) have now finished in 506 moves.\n",
      "I (CircleBaselineSolver) have now finished in 526 moves.\n",
      "I (HeuristicSolver) have now finished in 172 moves.\n"
     ]
    },
    {
     "name": "stderr",
     "output_type": "stream",
     "text": [
      " 58%|█████▊    | 29/50 [00:32<00:22,  1.06s/it]"
     ]
    },
    {
     "name": "stdout",
     "output_type": "stream",
     "text": [
      "I (AstarSolver) have now finished in 379 moves.\n",
      "I (HeuristicSolver) have now finished in 209 moves.\n",
      "I (RandomBaselineSolver) have now finished in 449 moves.\n",
      "I (CircleBaselineSolver) have now finished in 459 moves.\n",
      "I (HeuristicSolver) have now finished in 209 moves.\n"
     ]
    },
    {
     "name": "stderr",
     "output_type": "stream",
     "text": [
      " 60%|██████    | 30/50 [00:33<00:22,  1.11s/it]"
     ]
    },
    {
     "name": "stdout",
     "output_type": "stream",
     "text": [
      "I (AstarSolver) have now finished in 292 moves.\n",
      "I (HeuristicSolver) have now finished in 256 moves.\n",
      "I (RandomBaselineSolver) have now finished in 511 moves.\n",
      "I (CircleBaselineSolver) have now finished in 526 moves.\n",
      "I (HeuristicSolver) have now finished in 256 moves.\n"
     ]
    },
    {
     "name": "stderr",
     "output_type": "stream",
     "text": [
      " 62%|██████▏   | 31/50 [00:36<00:31,  1.65s/it]"
     ]
    },
    {
     "name": "stdout",
     "output_type": "stream",
     "text": [
      "I (AstarSolver) have now finished in 516 moves.\n",
      "I (HeuristicSolver) have now finished in 124 moves.\n",
      "I (RandomBaselineSolver) have now finished in 405 moves.\n"
     ]
    },
    {
     "name": "stderr",
     "output_type": "stream",
     "text": [
      " 64%|██████▍   | 32/50 [00:37<00:27,  1.51s/it]"
     ]
    },
    {
     "name": "stdout",
     "output_type": "stream",
     "text": [
      "I (CircleBaselineSolver) have now finished in 483 moves.\n",
      "I (HeuristicSolver) have now finished in 124 moves.\n",
      "I (AstarSolver) have now finished in 265 moves.\n",
      "I (HeuristicSolver) have now finished in 236 moves.\n",
      "I (RandomBaselineSolver) have now finished in 482 moves.\n",
      "I (CircleBaselineSolver) have now finished in 499 moves.\n",
      "I (HeuristicSolver) have now finished in 236 moves.\n"
     ]
    },
    {
     "name": "stderr",
     "output_type": "stream",
     "text": [
      " 66%|██████▌   | 33/50 [00:39<00:26,  1.54s/it]"
     ]
    },
    {
     "name": "stdout",
     "output_type": "stream",
     "text": [
      "I (AstarSolver) have now finished in 382 moves.\n",
      "I (HeuristicSolver) have now finished in 75 moves.\n",
      "I (RandomBaselineSolver) have now finished in 445 moves.\n"
     ]
    },
    {
     "name": "stderr",
     "output_type": "stream",
     "text": [
      " 68%|██████▊   | 34/50 [00:40<00:22,  1.40s/it]"
     ]
    },
    {
     "name": "stdout",
     "output_type": "stream",
     "text": [
      "I (CircleBaselineSolver) have now finished in 444 moves.\n",
      "I (HeuristicSolver) have now finished in 75 moves.\n",
      "I (AstarSolver) have now finished in 298 moves.\n",
      "I (HeuristicSolver) have now finished in 76 moves.\n"
     ]
    },
    {
     "name": "stderr",
     "output_type": "stream",
     "text": [
      " 70%|███████   | 35/50 [00:40<00:16,  1.08s/it]"
     ]
    },
    {
     "name": "stdout",
     "output_type": "stream",
     "text": [
      "I (RandomBaselineSolver) have now finished in 281 moves.\n",
      "I (CircleBaselineSolver) have now finished in 280 moves.\n",
      "I (HeuristicSolver) have now finished in 76 moves.\n",
      "I (AstarSolver) have now finished in 172 moves.\n",
      "I (HeuristicSolver) have now finished in 78 moves.\n",
      "I (RandomBaselineSolver) have now finished in 356 moves.\n"
     ]
    },
    {
     "name": "stderr",
     "output_type": "stream",
     "text": [
      " 72%|███████▏  | 36/50 [00:42<00:15,  1.10s/it]"
     ]
    },
    {
     "name": "stdout",
     "output_type": "stream",
     "text": [
      "I (CircleBaselineSolver) have now finished in 384 moves.\n",
      "I (HeuristicSolver) have now finished in 78 moves.\n",
      "I (AstarSolver) have now finished in 213 moves.\n",
      "I (HeuristicSolver) have now finished in 231 moves.\n",
      "I (RandomBaselineSolver) have now finished in 474 moves.\n",
      "I (CircleBaselineSolver) have now finished in 470 moves.\n",
      "I (HeuristicSolver) have now finished in 231 moves.\n"
     ]
    },
    {
     "name": "stderr",
     "output_type": "stream",
     "text": [
      " 74%|███████▍  | 37/50 [00:43<00:15,  1.16s/it]"
     ]
    },
    {
     "name": "stdout",
     "output_type": "stream",
     "text": [
      "I (AstarSolver) have now finished in 386 moves.\n",
      "I (HeuristicSolver) have now finished in 98 moves.\n",
      "I (RandomBaselineSolver) have now finished in 289 moves.\n"
     ]
    },
    {
     "name": "stderr",
     "output_type": "stream",
     "text": [
      " 76%|███████▌  | 38/50 [00:43<00:11,  1.05it/s]"
     ]
    },
    {
     "name": "stdout",
     "output_type": "stream",
     "text": [
      "I (CircleBaselineSolver) have now finished in 305 moves.\n",
      "I (HeuristicSolver) have now finished in 98 moves.\n",
      "I (AstarSolver) have now finished in 192 moves.\n",
      "I (HeuristicSolver) have now finished in 130 moves.\n",
      "I (RandomBaselineSolver) have now finished in 421 moves.\n",
      "I (CircleBaselineSolver) have now finished in 478 moves.\n",
      "I (HeuristicSolver) have now finished in 130 moves.\n"
     ]
    },
    {
     "name": "stderr",
     "output_type": "stream",
     "text": [
      " 78%|███████▊  | 39/50 [00:44<00:10,  1.01it/s]"
     ]
    },
    {
     "name": "stdout",
     "output_type": "stream",
     "text": [
      "I (AstarSolver) have now finished in 379 moves.\n",
      "I (HeuristicSolver) have now finished in 71 moves.\n",
      "I (RandomBaselineSolver) have now finished in 437 moves.\n"
     ]
    },
    {
     "name": "stderr",
     "output_type": "stream",
     "text": [
      " 80%|████████  | 40/50 [00:45<00:09,  1.01it/s]"
     ]
    },
    {
     "name": "stdout",
     "output_type": "stream",
     "text": [
      "I (CircleBaselineSolver) have now finished in 464 moves.\n",
      "I (HeuristicSolver) have now finished in 71 moves.\n",
      "I (AstarSolver) have now finished in 288 moves.\n",
      "I (HeuristicSolver) have now finished in 68 moves.\n",
      "I (RandomBaselineSolver) have now finished in 494 moves.\n"
     ]
    },
    {
     "name": "stderr",
     "output_type": "stream",
     "text": [
      " 82%|████████▏ | 41/50 [00:48<00:14,  1.60s/it]"
     ]
    },
    {
     "name": "stdout",
     "output_type": "stream",
     "text": [
      "I (CircleBaselineSolver) have now finished in 515 moves.\n",
      "I (HeuristicSolver) have now finished in 68 moves.\n",
      "I (AstarSolver) have now finished in 290 moves.\n",
      "I (HeuristicSolver) have now finished in 57 moves.\n",
      "I (RandomBaselineSolver) have now finished in 448 moves.\n"
     ]
    },
    {
     "name": "stderr",
     "output_type": "stream",
     "text": [
      " 84%|████████▍ | 42/50 [00:49<00:10,  1.36s/it]"
     ]
    },
    {
     "name": "stdout",
     "output_type": "stream",
     "text": [
      "I (CircleBaselineSolver) have now finished in 454 moves.\n",
      "I (HeuristicSolver) have now finished in 57 moves.\n",
      "I (AstarSolver) have now finished in 126 moves.\n",
      "I (HeuristicSolver) have now finished in 95 moves.\n",
      "I (RandomBaselineSolver) have now finished in 466 moves.\n",
      "I (CircleBaselineSolver) have now finished in 456 moves.\n",
      "I (HeuristicSolver) have now finished in 95 moves.\n"
     ]
    },
    {
     "name": "stderr",
     "output_type": "stream",
     "text": [
      " 86%|████████▌ | 43/50 [00:51<00:10,  1.55s/it]"
     ]
    },
    {
     "name": "stdout",
     "output_type": "stream",
     "text": [
      "I (AstarSolver) have now finished in 365 moves.\n",
      "I (HeuristicSolver) have now finished in 58 moves.\n",
      "I (RandomBaselineSolver) have now finished in 284 moves.\n"
     ]
    },
    {
     "name": "stderr",
     "output_type": "stream",
     "text": [
      " 88%|████████▊ | 44/50 [00:52<00:07,  1.29s/it]"
     ]
    },
    {
     "name": "stdout",
     "output_type": "stream",
     "text": [
      "I (CircleBaselineSolver) have now finished in 491 moves.\n",
      "I (HeuristicSolver) have now finished in 58 moves.\n",
      "I (AstarSolver) have now finished in 177 moves.\n",
      "I (HeuristicSolver) have now finished in 87 moves.\n",
      "I (RandomBaselineSolver) have now finished in 353 moves.\n"
     ]
    },
    {
     "name": "stderr",
     "output_type": "stream",
     "text": [
      " 90%|█████████ | 45/50 [00:53<00:05,  1.10s/it]"
     ]
    },
    {
     "name": "stdout",
     "output_type": "stream",
     "text": [
      "I (CircleBaselineSolver) have now finished in 370 moves.\n",
      "I (HeuristicSolver) have now finished in 87 moves.\n",
      "I (AstarSolver) have now finished in 283 moves.\n",
      "I (HeuristicSolver) have now finished in 86 moves.\n",
      "I (RandomBaselineSolver) have now finished in 365 moves.\n"
     ]
    },
    {
     "name": "stderr",
     "output_type": "stream",
     "text": [
      " 92%|█████████▏| 46/50 [00:53<00:03,  1.01it/s]"
     ]
    },
    {
     "name": "stdout",
     "output_type": "stream",
     "text": [
      "I (CircleBaselineSolver) have now finished in 400 moves.\n",
      "I (HeuristicSolver) have now finished in 86 moves.\n",
      "I (AstarSolver) have now finished in 299 moves.\n",
      "I (HeuristicSolver) have now finished in 48 moves.\n",
      "I (RandomBaselineSolver) have now finished in 285 moves.\n"
     ]
    },
    {
     "name": "stderr",
     "output_type": "stream",
     "text": [
      " 94%|█████████▍| 47/50 [00:54<00:02,  1.19it/s]"
     ]
    },
    {
     "name": "stdout",
     "output_type": "stream",
     "text": [
      "I (CircleBaselineSolver) have now finished in 394 moves.\n",
      "I (HeuristicSolver) have now finished in 48 moves.\n",
      "I (AstarSolver) have now finished in 159 moves.\n",
      "I (HeuristicSolver) have now finished in 139 moves.\n",
      "I (RandomBaselineSolver) have now finished in 503 moves.\n",
      "I (CircleBaselineSolver) have now finished in 506 moves.\n",
      "I (HeuristicSolver) have now finished in 139 moves.\n"
     ]
    },
    {
     "name": "stderr",
     "output_type": "stream",
     "text": [
      " 96%|█████████▌| 48/50 [00:55<00:02,  1.08s/it]"
     ]
    },
    {
     "name": "stdout",
     "output_type": "stream",
     "text": [
      "I (AstarSolver) have now finished in 324 moves.\n",
      "I (HeuristicSolver) have now finished in 173 moves.\n",
      "I (RandomBaselineSolver) have now finished in 514 moves.\n",
      "I (CircleBaselineSolver) have now finished in 500 moves.\n",
      "I (HeuristicSolver) have now finished in 173 moves.\n"
     ]
    },
    {
     "name": "stderr",
     "output_type": "stream",
     "text": [
      " 98%|█████████▊| 49/50 [00:57<00:01,  1.14s/it]"
     ]
    },
    {
     "name": "stdout",
     "output_type": "stream",
     "text": [
      "I (AstarSolver) have now finished in 357 moves.\n",
      "I (HeuristicSolver) have now finished in 160 moves.\n",
      "I (RandomBaselineSolver) have now finished in 386 moves.\n",
      "I (CircleBaselineSolver) have now finished in 445 moves.\n",
      "I (HeuristicSolver) have now finished in 160 moves.\n"
     ]
    },
    {
     "name": "stderr",
     "output_type": "stream",
     "text": [
      "100%|██████████| 50/50 [00:59<00:00,  1.18s/it]"
     ]
    },
    {
     "name": "stdout",
     "output_type": "stream",
     "text": [
      "I (AstarSolver) have now finished in 341 moves.\n"
     ]
    },
    {
     "name": "stderr",
     "output_type": "stream",
     "text": [
      "\n"
     ]
    }
   ],
   "source": [
    "for iteration in tqdm(range(iterations)):\n",
    "    grid, grid0, begin_node, end_node = get_valid_grid(number_tiles_horizontal, number_tiles_vertical, info=False)\n",
    "    solvers = init_solvers(begin_node, end_node, number_tiles_horizontal, number_tiles_vertical)\n",
    "    for i, solver in enumerate(solvers):\n",
    "        grid = copy.deepcopy(grid0)\n",
    "        solver = solvers[i]\n",
    "        returned = begin_node\n",
    "        while not isinstance(returned, list):\n",
    "            color_node(returned, grid)\n",
    "            returned = solver.one_step(grid)\n",
    "        stats[i][0].append(solver.moves)\n",
    "        stats[i][1].append(solver.path_length)\n"
   ]
  },
  {
   "cell_type": "code",
   "execution_count": 8,
   "metadata": {},
   "outputs": [],
   "source": [
    "import matplotlib.pyplot as plt\n",
    "import numpy as np\n",
    "\n",
    "names = [\"Random\", \"Circle\", \"Heuristic\", \"A*\"]"
   ]
  },
  {
   "cell_type": "code",
   "execution_count": 9,
   "metadata": {},
   "outputs": [
    {
     "name": "stdout",
     "output_type": "stream",
     "text": [
      "Random\n",
      "Moves:  398.44 83.10094102956958\n",
      "Path:  69.04 11.47337788099041\n",
      "Circle\n",
      "Moves:  429.1 72.46992479642849\n",
      "Path:  66.76 12.197639115828931\n",
      "Heuristic\n",
      "Moves:  110.5 51.089431392412266\n",
      "Path:  67.52 14.18765660706517\n",
      "A*\n",
      "Moves:  260.16 92.87397051919338\n",
      "Path:  66.6 11.301327355669333\n"
     ]
    },
    {
     "data": {
      "text/plain": [
       "<Figure size 640x480 with 0 Axes>"
      ]
     },
     "metadata": {},
     "output_type": "display_data"
    }
   ],
   "source": [
    "def create_histograms(data, names):\n",
    "    for i, tup in enumerate(data):\n",
    "        mean_moves = np.mean(tup[0])\n",
    "        std_moves = np.std(tup[0])\n",
    "        mean_path = np.mean(tup[1])\n",
    "        std_path = np.std(tup[1])\n",
    "        print(names[i])\n",
    "        print(\"Moves: \", mean_moves, std_moves)\n",
    "        print(\"Path: \", mean_path, std_path)\n",
    "\n",
    "        plt.hist(tup[0], bins=10, color='skyblue', edgecolor='black')\n",
    "        plt.title('Length of Moves')\n",
    "        plt.xlabel('Value')\n",
    "        plt.ylabel('Frequency')\n",
    "        plt.tight_layout()\n",
    "\n",
    "        plt.savefig(f\"/Users/lucasvilsen/Desktop/AI-FunProjects/Pathfinding  Algorithms/histograms/{names[i]}_moves.png\")\n",
    "        plt.clf()\n",
    "\n",
    "        plt.hist(tup[1], bins=10, color='skyblue', edgecolor='black')\n",
    "        plt.title('Length of Path')\n",
    "        plt.xlabel('Value')\n",
    "        plt.ylabel('Frequency')\n",
    "        plt.tight_layout()\n",
    "\n",
    "        plt.savefig(f\"/Users/lucasvilsen/Desktop/AI-FunProjects/Pathfinding  Algorithms/histograms/{names[i]}_path.png\")\n",
    "        plt.clf()\n",
    "\n",
    "create_histograms(stats, names)"
   ]
  },
  {
   "cell_type": "code",
   "execution_count": null,
   "metadata": {},
   "outputs": [],
   "source": []
  }
 ],
 "metadata": {
  "kernelspec": {
   "display_name": "Python 3.11.2 64-bit",
   "language": "python",
   "name": "python3"
  },
  "language_info": {
   "codemirror_mode": {
    "name": "ipython",
    "version": 3
   },
   "file_extension": ".py",
   "mimetype": "text/x-python",
   "name": "python",
   "nbconvert_exporter": "python",
   "pygments_lexer": "ipython3",
   "version": "3.11.2"
  },
  "orig_nbformat": 4,
  "vscode": {
   "interpreter": {
    "hash": "b0fa6594d8f4cbf19f97940f81e996739fb7646882a419484c72d19e05852a7e"
   }
  }
 },
 "nbformat": 4,
 "nbformat_minor": 2
}
