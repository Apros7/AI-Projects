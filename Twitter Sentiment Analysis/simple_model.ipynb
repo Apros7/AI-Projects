{
 "cells": [
  {
   "cell_type": "code",
   "execution_count": 2,
   "metadata": {},
   "outputs": [],
   "source": [
    "import pandas as pd\n",
    "import numpy as np\n",
    "from sklearn.metrics import accuracy_score, f1_score"
   ]
  },
  {
   "cell_type": "code",
   "execution_count": 3,
   "metadata": {},
   "outputs": [],
   "source": [
    "negative = pd.read_csv(\"negative_words.csv\", header=None)\n",
    "positive = pd.read_csv(\"positive_words.csv\", header=None)\n",
    "data = pd.read_csv(\"dataset.csv\", header=None, encoding=\"latin1\")\n"
   ]
  },
  {
   "cell_type": "code",
   "execution_count": 5,
   "metadata": {},
   "outputs": [
    {
     "name": "stdout",
     "output_type": "stream",
     "text": [
      "120000\n"
     ]
    }
   ],
   "source": [
    "testset = data.sample(frac=0.075)\n",
    "print(len(testset))\n",
    "testset.to_csv(\"testset.csv\", index=False)"
   ]
  },
  {
   "cell_type": "code",
   "execution_count": 6,
   "metadata": {},
   "outputs": [],
   "source": [
    "data = pd.read_csv(\"testset.csv\", header=None)"
   ]
  },
  {
   "cell_type": "code",
   "execution_count": 7,
   "metadata": {},
   "outputs": [],
   "source": [
    "def classify_tweet(tweet):\n",
    "    score = 1\n",
    "    for word in tweet.split():\n",
    "        if word in negative.values:\n",
    "            score -= 1\n",
    "        elif word in positive.values:\n",
    "            score += 1\n",
    "    if score > 0:\n",
    "        return 1\n",
    "    return 0"
   ]
  },
  {
   "cell_type": "code",
   "execution_count": 8,
   "metadata": {},
   "outputs": [],
   "source": [
    "def eval_model(labels, predictions):\n",
    "    print(f\"accuracy: {accuracy_score(labels, predictions)}\")\n",
    "    print(f\"f1 score: {f1_score(labels, predictions)}\")"
   ]
  },
  {
   "cell_type": "code",
   "execution_count": 9,
   "metadata": {},
   "outputs": [
    {
     "name": "stdout",
     "output_type": "stream",
     "text": [
      "[0 1 0 ... 1 0 1]\n"
     ]
    }
   ],
   "source": [
    "df = data.sample(frac=0.01)\n",
    "tweets = (df.iloc[:, 5])\n",
    "labels = (df.iloc[:, 0]).values\n",
    "labels = np.where(labels > 1, 1, labels)\n",
    "print(labels)"
   ]
  },
  {
   "cell_type": "code",
   "execution_count": 10,
   "metadata": {},
   "outputs": [
    {
     "name": "stdout",
     "output_type": "stream",
     "text": [
      "[1 1 1 ... 1 1 1]\n"
     ]
    }
   ],
   "source": [
    "predictions = np.array([classify_tweet(tweet) for tweet in tweets.values])\n",
    "print(predictions)"
   ]
  },
  {
   "cell_type": "code",
   "execution_count": 11,
   "metadata": {},
   "outputs": [
    {
     "name": "stdout",
     "output_type": "stream",
     "text": [
      "1's: 0.815\n",
      "0's: 0.185\n",
      "1's: 0.51\n",
      "0's: 0.49\n"
     ]
    }
   ],
   "source": [
    "print(f\"1's: {len(predictions[predictions == 1]) / len(predictions)}\")\n",
    "print(f\"0's: {len(predictions[predictions == 0]) / len(predictions)}\")\n",
    "print(f\"1's: {len(labels[labels == 1]) / len(labels)}\")\n",
    "print(f\"0's: {len(labels[labels == 0]) / len(labels)}\")"
   ]
  },
  {
   "cell_type": "code",
   "execution_count": 12,
   "metadata": {},
   "outputs": [
    {
     "name": "stdout",
     "output_type": "stream",
     "text": [
      "accuracy: 0.61\n",
      "f1 score: 0.7056603773584906\n"
     ]
    }
   ],
   "source": [
    "eval_model(labels, predictions)"
   ]
  },
  {
   "cell_type": "code",
   "execution_count": null,
   "metadata": {},
   "outputs": [],
   "source": []
  }
 ],
 "metadata": {
  "kernelspec": {
   "display_name": "Python 3.10.8 64-bit",
   "language": "python",
   "name": "python3"
  },
  "language_info": {
   "codemirror_mode": {
    "name": "ipython",
    "version": 3
   },
   "file_extension": ".py",
   "mimetype": "text/x-python",
   "name": "python",
   "nbconvert_exporter": "python",
   "pygments_lexer": "ipython3",
   "version": "3.10.8"
  },
  "orig_nbformat": 4,
  "vscode": {
   "interpreter": {
    "hash": "b0fa6594d8f4cbf19f97940f81e996739fb7646882a419484c72d19e05852a7e"
   }
  }
 },
 "nbformat": 4,
 "nbformat_minor": 2
}
