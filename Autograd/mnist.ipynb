{
 "cells": [
  {
   "cell_type": "markdown",
   "metadata": {},
   "source": [
    "Notice: \n",
    "- Only train 1 epoch on 1/10 of the true X_train dataset\n",
    "- Evaluation only done on 1/20 of the true X_test dataset\n",
    "\n",
    "This is mainly due to the ineffective state of this autograd project"
   ]
  },
  {
   "cell_type": "code",
   "execution_count": 14,
   "metadata": {},
   "outputs": [],
   "source": [
    "from autograd.engine import Tensor\n",
    "from autograd.nn import Perceptron, MSELoss\n",
    "import numpy as np\n",
    "from tqdm import tqdm"
   ]
  },
  {
   "cell_type": "code",
   "execution_count": 15,
   "metadata": {},
   "outputs": [],
   "source": [
    "from tinygrad.helpers import fetch\n",
    "import gzip\n",
    "\n",
    "# taken from tinygrad.extra.datasets:\n",
    "def fetch_mnist(tensors=False):\n",
    "  parse = lambda file: np.frombuffer(gzip.open(file).read(), dtype=np.uint8).copy()\n",
    "  BASE_URL = \"https://storage.googleapis.com/cvdf-datasets/mnist/\"   # http://yann.lecun.com/exdb/mnist/ lacks https\n",
    "  X_train = parse(fetch(f\"{BASE_URL}train-images-idx3-ubyte.gz\"))[0x10:].reshape((-1, 28*28)).astype(np.float32)\n",
    "  Y_train = parse(fetch(f\"{BASE_URL}train-labels-idx1-ubyte.gz\"))[8:].astype(np.int8)\n",
    "  X_test = parse(fetch(f\"{BASE_URL}t10k-images-idx3-ubyte.gz\"))[0x10:].reshape((-1, 28*28)).astype(np.float32)\n",
    "  Y_test = parse(fetch(f\"{BASE_URL}t10k-labels-idx1-ubyte.gz\"))[8:].astype(np.int8)\n",
    "  if tensors: return Tensor(X_train).reshape(-1, 1, 28, 28), Tensor(Y_train), Tensor(X_test).reshape(-1, 1, 28, 28), Tensor(Y_test)\n",
    "  else: return X_train, Y_train, X_test, Y_test"
   ]
  },
  {
   "cell_type": "code",
   "execution_count": 16,
   "metadata": {},
   "outputs": [],
   "source": [
    "def one_hot_encode(array):\n",
    "    encoded_array = np.zeros((array.size, array.max()+1), dtype=int)\n",
    "    encoded_array[np.arange(array.size),array] = 1 \n",
    "    return encoded_array"
   ]
  },
  {
   "cell_type": "code",
   "execution_count": 17,
   "metadata": {},
   "outputs": [],
   "source": [
    "X_train, Y_train, X_test, Y_test = fetch_mnist()\n",
    "X_train, X_test = X_train/255.0, X_test/255.0\n",
    "Y_train = one_hot_encode(Y_train)\n",
    "Y_test = one_hot_encode(Y_test)"
   ]
  },
  {
   "cell_type": "code",
   "execution_count": 18,
   "metadata": {},
   "outputs": [],
   "source": [
    "loss_func = MSELoss()\n",
    "model = Perceptron([784, 10])\n",
    "lr = 0.01"
   ]
  },
  {
   "cell_type": "code",
   "execution_count": 19,
   "metadata": {},
   "outputs": [
    {
     "name": "stderr",
     "output_type": "stream",
     "text": [
      "100%|██████████| 500/500 [01:19<00:00,  6.33it/s]"
     ]
    },
    {
     "name": "stdout",
     "output_type": "stream",
     "text": [
      "Acc:  8.8 %\n"
     ]
    },
    {
     "name": "stderr",
     "output_type": "stream",
     "text": [
      "\n"
     ]
    }
   ],
   "source": [
    "def evaluate():\n",
    "    results = []\n",
    "    for i in tqdm(range(len(X_test)//20)):\n",
    "        ypred = model(X_test[i])\n",
    "        results.append(np.argmax(Y_test[i]) == np.argmax([tensor.item() for tensor in ypred]))\n",
    "    return round(100 * sum(results) / len(results), 4)\n",
    "\n",
    "print(\"Acc: \", evaluate(), \"%\")"
   ]
  },
  {
   "cell_type": "code",
   "execution_count": 20,
   "metadata": {},
   "outputs": [
    {
     "name": "stderr",
     "output_type": "stream",
     "text": [
      "100%|██████████| 6000/6000 [17:38<00:00,  5.67it/s]\n"
     ]
    }
   ],
   "source": [
    "ks = []\n",
    "losses = []\n",
    "\n",
    "for i in tqdm(range(len(X_train)//10)):\n",
    "    # forward\n",
    "    ypreds = model(X_train[i])\n",
    "    loss = loss_func(ypreds, Y_train[i])\n",
    "\n",
    "    # backward\n",
    "    model.zero_grad()\n",
    "    loss.backward()\n",
    "\n",
    "    # update\n",
    "    for p in model.parameters():\n",
    "        p.data += -lr * p.grad\n",
    "\n",
    "    # log\n",
    "    ks.append(i)\n",
    "    losses.append(loss.item())"
   ]
  },
  {
   "cell_type": "code",
   "execution_count": 21,
   "metadata": {},
   "outputs": [
    {
     "name": "stderr",
     "output_type": "stream",
     "text": [
      "100%|██████████| 500/500 [01:21<00:00,  6.10it/s]"
     ]
    },
    {
     "name": "stdout",
     "output_type": "stream",
     "text": [
      "Acc:  45.8 %\n"
     ]
    },
    {
     "name": "stderr",
     "output_type": "stream",
     "text": [
      "\n"
     ]
    }
   ],
   "source": [
    "print(\"Acc: \", evaluate(), \"%\")"
   ]
  },
  {
   "cell_type": "markdown",
   "metadata": {},
   "source": [
    "Visualization"
   ]
  },
  {
   "cell_type": "code",
   "execution_count": 28,
   "metadata": {},
   "outputs": [
    {
     "data": {
      "image/png": "[encoded data removed]",
      "text/plain": [
       "<Figure size 1200x500 with 10 Axes>"
      ]
     },
     "metadata": {},
     "output_type": "display_data"
    }
   ],
   "source": [
    "import matplotlib.pyplot as plt\n",
    "\n",
    "num_rows = 2\n",
    "num_cols = 5\n",
    "\n",
    "fig, axes = plt.subplots(num_rows, num_cols, figsize=(12, 5))\n",
    "for i in range(num_rows * num_cols):\n",
    "    actual = np.argmax(Y_test[i])\n",
    "    prediction = np.argmax([t.item() for t in model(X_test[i])])\n",
    "\n",
    "    image = X_test[i].reshape(28, 28)\n",
    "\n",
    "    row = i // num_cols\n",
    "    col = i % num_cols\n",
    "\n",
    "    axes[row, col].imshow(image, cmap='gray')\n",
    "    axes[row, col].set_title(f\"Actual = {actual} | Prediction = {prediction}\", fontsize = 8)\n",
    "    axes[row, col].axis('off')\n",
    "\n",
    "plt.show()"
   ]
  },
  {
   "cell_type": "code",
   "execution_count": null,
   "metadata": {},
   "outputs": [],
   "source": []
  }
 ],
 "metadata": {
  "kernelspec": {
   "display_name": "Python 3.12.2 64-bit",
   "language": "python",
   "name": "python3"
  },
  "language_info": {
   "codemirror_mode": {
    "name": "ipython",
    "version": 3
   },
   "file_extension": ".py",
   "mimetype": "text/x-python",
   "name": "python",
   "nbconvert_exporter": "python",
   "pygments_lexer": "ipython3",
   "version": "3.12.2"
  },
  "orig_nbformat": 4,
  "vscode": {
   "interpreter": {
    "hash": "b0fa6594d8f4cbf19f97940f81e996739fb7646882a419484c72d19e05852a7e"
   }
  }
 },
 "nbformat": 4,
 "nbformat_minor": 2
}
