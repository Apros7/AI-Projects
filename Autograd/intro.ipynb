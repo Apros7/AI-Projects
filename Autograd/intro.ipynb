{
 "cells": [
  {
   "cell_type": "code",
   "execution_count": 2,
   "metadata": {},
   "outputs": [
    {
     "data": {
      "text/plain": [
       "<module 'autograd.nn' from '/Users/lucasvilsen/Documents/Documents/AI-FunProjects/Autograd/autograd/nn.py'>"
      ]
     },
     "execution_count": 2,
     "metadata": {},
     "output_type": "execute_result"
    }
   ],
   "source": [
    "from autograd import engine as e\n",
    "from autograd import nn\n",
    "from autograd import speedtest\n",
    "import numpy as np\n",
    "import importlib\n",
    "importlib.reload(e)\n",
    "importlib.reload(nn)"
   ]
  },
  {
   "cell_type": "code",
   "execution_count": 3,
   "metadata": {},
   "outputs": [
    {
     "data": {
      "text/plain": [
       "(Tensor(data=0.8813735869999997), Tensor(data=0.7071067811767758))"
      ]
     },
     "execution_count": 3,
     "metadata": {},
     "output_type": "execute_result"
    }
   ],
   "source": [
    "x1 = e.Tensor(2.0)\n",
    "x2 = e.Tensor(0.0)\n",
    "\n",
    "w1 = e.Tensor(-3.0)\n",
    "w2 = e.Tensor(1.0)\n",
    "\n",
    "b = e.Tensor(6.881373587)\n",
    "\n",
    "n = (x1 * w1) + (x2 * w2) + b\n",
    "o = n.tanh()\n",
    "n, o"
   ]
  },
  {
   "cell_type": "code",
   "execution_count": 4,
   "metadata": {},
   "outputs": [],
   "source": [
    "xs = [\n",
    "  [2.0, 3.0, -1.0],\n",
    "  [3.0, -1.0, 0.5],\n",
    "  [0.5, 1.0, 1.0],\n",
    "  [1.0, 1.0, -1.0],\n",
    "]\n",
    "ys = [1.0, -1.0, -1.0, 1.0]"
   ]
  },
  {
   "cell_type": "code",
   "execution_count": 6,
   "metadata": {},
   "outputs": [],
   "source": [
    "loss_func = nn.MSELoss()\n",
    "lr = 0.05\n",
    "steps = 500\n",
    "n = nn.Perceptron([3, 4, 4, 1])"
   ]
  },
  {
   "cell_type": "code",
   "execution_count": 7,
   "metadata": {},
   "outputs": [],
   "source": [
    "ks = []\n",
    "losses = []\n",
    "\n",
    "for k in range(steps):\n",
    "  # forward\n",
    "  ypred = [n(x) for x in xs]\n",
    "  loss = loss_func(ypred, ys)\n",
    "\n",
    "  # backward\n",
    "  n.zero_grad()\n",
    "  loss.backward()\n",
    "  \n",
    "  # update\n",
    "  for p in n.parameters(): p.data += -lr * p.grad\n",
    "  \n",
    "  # plot\n",
    "  ks.append(k)\n",
    "  losses.append(loss.item())"
   ]
  },
  {
   "cell_type": "code",
   "execution_count": 8,
   "metadata": {},
   "outputs": [
    {
     "data": {
      "text/plain": [
       "[<matplotlib.lines.Line2D at 0x11e614b60>]"
      ]
     },
     "execution_count": 8,
     "metadata": {},
     "output_type": "execute_result"
    },
    {
     "data": {
      "image/png": "[encoded data removed]",
      "text/plain": [
       "<Figure size 640x480 with 1 Axes>"
      ]
     },
     "metadata": {},
     "output_type": "display_data"
    }
   ],
   "source": [
    "import matplotlib.pyplot as plt\n",
    "\n",
    "plt.plot(ks, losses)"
   ]
  },
  {
   "cell_type": "code",
   "execution_count": 10,
   "metadata": {},
   "outputs": [],
   "source": [
    "speedtest.speedtest()"
   ]
  },
  {
   "cell_type": "code",
   "execution_count": null,
   "metadata": {},
   "outputs": [],
   "source": []
  }
 ],
 "metadata": {
  "kernelspec": {
   "display_name": "Python 3.12.2 64-bit",
   "language": "python",
   "name": "python3"
  },
  "language_info": {
   "codemirror_mode": {
    "name": "ipython",
    "version": 3
   },
   "file_extension": ".py",
   "mimetype": "text/x-python",
   "name": "python",
   "nbconvert_exporter": "python",
   "pygments_lexer": "ipython3",
   "version": "3.12.6"
  },
  "orig_nbformat": 4,
  "vscode": {
   "interpreter": {
    "hash": "b0fa6594d8f4cbf19f97940f81e996739fb7646882a419484c72d19e05852a7e"
   }
  }
 },
 "nbformat": 4,
 "nbformat_minor": 2
}
