{
 "cells": [
  {
   "cell_type": "code",
   "execution_count": 1,
   "metadata": {},
   "outputs": [],
   "source": [
    "import tensorflow as tf\n",
    "mnist = tf.keras.datasets.mnist\n",
    "(x_train, y_train), (x_test, y_test) = mnist.load_data()"
   ]
  },
  {
   "cell_type": "code",
   "execution_count": 2,
   "metadata": {},
   "outputs": [],
   "source": [
    "import numpy as np\n",
    "num_samples = 100\n",
    "x_train = x_train[:num_samples]\n",
    "y_train = y_train[:num_samples]\n",
    "\n",
    "x_train = np.array(x_train)\n",
    "y_train = np.array(y_train)\n",
    "\n",
    "x_train = x_train / 255.0\n",
    "x_train = x_train.reshape(num_samples, -1)"
   ]
  },
  {
   "cell_type": "code",
   "execution_count": 3,
   "metadata": {},
   "outputs": [
    {
     "name": "stdout",
     "output_type": "stream",
     "text": [
      "\n",
      "Initiating Population...\n",
      "========================================\n",
      "Creating 1500 cells with complexity level 10...\n"
     ]
    },
    {
     "name": "stderr",
     "output_type": "stream",
     "text": [
      "100%|██████████| 1500/1500 [00:00<00:00, 4265.04it/s]"
     ]
    },
    {
     "name": "stdout",
     "output_type": "stream",
     "text": [
      "========================================\n"
     ]
    },
    {
     "name": "stderr",
     "output_type": "stream",
     "text": [
      "\n"
     ]
    }
   ],
   "source": [
    "from Basic_model.population import Population\n",
    "population = Population(input_vector_size=784, output_vector_size=10)"
   ]
  },
  {
   "cell_type": "code",
   "execution_count": 4,
   "metadata": {},
   "outputs": [
    {
     "name": "stdout",
     "output_type": "stream",
     "text": [
      "Collecting accuracies\n",
      "========================================\n"
     ]
    },
    {
     "name": "stderr",
     "output_type": "stream",
     "text": [
      "  0%|          | 0/1500 [00:00<?, ?it/s]"
     ]
    },
    {
     "name": "stdout",
     "output_type": "stream",
     "text": [
      "Self A:  (784, 10)\n",
      "Self B:  (10, 1)\n"
     ]
    },
    {
     "ename": "IndexError",
     "evalue": "index 89 is out of bounds for axis 0 with size 10",
     "output_type": "error",
     "traceback": [
      "\u001b[0;31m---------------------------------------------------------------------------\u001b[0m",
      "\u001b[0;31mIndexError\u001b[0m                                Traceback (most recent call last)",
      "Cell \u001b[0;32mIn[4], line 1\u001b[0m\n\u001b[0;32m----> 1\u001b[0m \u001b[43mpopulation\u001b[49m\u001b[38;5;241;43m.\u001b[39;49m\u001b[43mevaluate\u001b[49m\u001b[43m(\u001b[49m\u001b[43mx_train\u001b[49m\u001b[43m,\u001b[49m\u001b[43m \u001b[49m\u001b[43my_train\u001b[49m\u001b[43m)\u001b[49m\n",
      "File \u001b[0;32m~/Desktop/AI-FunProjects/Biology Inspired DeepRL/Basic_model/population.py:32\u001b[0m, in \u001b[0;36mPopulation.evaluate\u001b[0;34m(self, xs, ys)\u001b[0m\n\u001b[1;32m     30\u001b[0m \u001b[39mdef\u001b[39;00m \u001b[39mevaluate\u001b[39m(\u001b[39mself\u001b[39m, xs, ys):\n\u001b[1;32m     31\u001b[0m     divider(\u001b[39m\"\u001b[39m\u001b[39mCollecting accuracies\u001b[39m\u001b[39m\"\u001b[39m)\n\u001b[0;32m---> 32\u001b[0m     accuracies \u001b[39m=\u001b[39m \u001b[39msorted\u001b[39m([(cell\u001b[39m.\u001b[39;49mevaluate(xs, ys), cell) \u001b[39mfor\u001b[39;49;00m cell \u001b[39min\u001b[39;49;00m tqdm(\u001b[39mself\u001b[39;49m\u001b[39m.\u001b[39;49mpopulation)])\n\u001b[1;32m     33\u001b[0m     to_proceed_to_next_generation \u001b[39m=\u001b[39m accuracies[:\u001b[39mself\u001b[39m\u001b[39m.\u001b[39mnumber_of_best_cells]\n\u001b[1;32m     34\u001b[0m     \u001b[39mprint\u001b[39m(accuracies)\n",
      "File \u001b[0;32m~/Desktop/AI-FunProjects/Biology Inspired DeepRL/Basic_model/population.py:32\u001b[0m, in \u001b[0;36m<listcomp>\u001b[0;34m(.0)\u001b[0m\n\u001b[1;32m     30\u001b[0m \u001b[39mdef\u001b[39;00m \u001b[39mevaluate\u001b[39m(\u001b[39mself\u001b[39m, xs, ys):\n\u001b[1;32m     31\u001b[0m     divider(\u001b[39m\"\u001b[39m\u001b[39mCollecting accuracies\u001b[39m\u001b[39m\"\u001b[39m)\n\u001b[0;32m---> 32\u001b[0m     accuracies \u001b[39m=\u001b[39m \u001b[39msorted\u001b[39m([(cell\u001b[39m.\u001b[39;49mevaluate(xs, ys), cell) \u001b[39mfor\u001b[39;00m cell \u001b[39min\u001b[39;00m tqdm(\u001b[39mself\u001b[39m\u001b[39m.\u001b[39mpopulation)])\n\u001b[1;32m     33\u001b[0m     to_proceed_to_next_generation \u001b[39m=\u001b[39m accuracies[:\u001b[39mself\u001b[39m\u001b[39m.\u001b[39mnumber_of_best_cells]\n\u001b[1;32m     34\u001b[0m     \u001b[39mprint\u001b[39m(accuracies)\n",
      "File \u001b[0;32m~/Desktop/AI-FunProjects/Biology Inspired DeepRL/Basic_model/cell.py:46\u001b[0m, in \u001b[0;36mCell.evaluate\u001b[0;34m(self, xs, ys)\u001b[0m\n\u001b[1;32m     44\u001b[0m accuracies \u001b[39m=\u001b[39m []\n\u001b[1;32m     45\u001b[0m \u001b[39mfor\u001b[39;00m x, y \u001b[39min\u001b[39;00m \u001b[39mzip\u001b[39m(xs, ys): \n\u001b[0;32m---> 46\u001b[0m     pred \u001b[39m=\u001b[39m \u001b[39mself\u001b[39;49m\u001b[39m.\u001b[39;49mforward(x)\n\u001b[1;32m     47\u001b[0m     accuracies\u001b[39m.\u001b[39mappend(y \u001b[39m==\u001b[39m pred)\n\u001b[1;32m     48\u001b[0m \u001b[39mreturn\u001b[39;00m \u001b[39msum\u001b[39m(accuracies) \u001b[39m/\u001b[39m \u001b[39mlen\u001b[39m(accuracies)\n",
      "File \u001b[0;32m~/Desktop/AI-FunProjects/Biology Inspired DeepRL/Basic_model/cell.py:38\u001b[0m, in \u001b[0;36mCell.forward\u001b[0;34m(self, x)\u001b[0m\n\u001b[1;32m     36\u001b[0m softmaxed \u001b[39m=\u001b[39m softmax(np\u001b[39m.\u001b[39marray(x)\u001b[39m.\u001b[39mT \u001b[39m@\u001b[39m \u001b[39mself\u001b[39m\u001b[39m.\u001b[39mA \u001b[39m+\u001b[39m \u001b[39mself\u001b[39m\u001b[39m.\u001b[39mB)\n\u001b[1;32m     37\u001b[0m one_hot_vector \u001b[39m=\u001b[39m np\u001b[39m.\u001b[39mzeros_like(softmaxed)\n\u001b[0;32m---> 38\u001b[0m one_hot_vector[np\u001b[39m.\u001b[39;49margmax(softmaxed)] \u001b[39m=\u001b[39m \u001b[39m1\u001b[39m\n\u001b[1;32m     39\u001b[0m \u001b[39mreturn\u001b[39;00m one_hot_vector\n",
      "\u001b[0;31mIndexError\u001b[0m: index 89 is out of bounds for axis 0 with size 10"
     ]
    }
   ],
   "source": [
    "population.evaluate(x_train, y_train)"
   ]
  },
  {
   "cell_type": "code",
   "execution_count": null,
   "metadata": {},
   "outputs": [],
   "source": []
  }
 ],
 "metadata": {
  "kernelspec": {
   "display_name": "Python 3.11.2 64-bit",
   "language": "python",
   "name": "python3"
  },
  "language_info": {
   "codemirror_mode": {
    "name": "ipython",
    "version": 3
   },
   "file_extension": ".py",
   "mimetype": "text/x-python",
   "name": "python",
   "nbconvert_exporter": "python",
   "pygments_lexer": "ipython3",
   "version": "3.11.2"
  },
  "orig_nbformat": 4,
  "vscode": {
   "interpreter": {
    "hash": "b0fa6594d8f4cbf19f97940f81e996739fb7646882a419484c72d19e05852a7e"
   }
  }
 },
 "nbformat": 4,
 "nbformat_minor": 2
}
