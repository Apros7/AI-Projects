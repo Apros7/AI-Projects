{
 "cells": [
  {
   "cell_type": "markdown",
   "metadata": {},
   "source": [
    "[From this Kaggle course](https://www.kaggle.com/code/alexisbcook/n-step-lookahead)"
   ]
  },
  {
   "cell_type": "markdown",
   "metadata": {},
   "source": [
    "## Previous agents:"
   ]
  },
  {
   "cell_type": "code",
   "execution_count": 49,
   "metadata": {},
   "outputs": [],
   "source": [
    "import random\n",
    "import numpy as np\n",
    "from kaggle_environments import make, evaluate"
   ]
  },
  {
   "cell_type": "code",
   "execution_count": 50,
   "metadata": {},
   "outputs": [],
   "source": [
    "def score_move_NoLook(grid, col, mark, config):\n",
    "    next_grid = drop_piece_NoLook(grid, col, mark, config)\n",
    "    score = get_heuristic_NoLook(next_grid, mark, config)\n",
    "    return score\n",
    "\n",
    "def drop_piece_NoLook(grid, col, mark, config):\n",
    "    next_grid = grid.copy()\n",
    "    for row in range(config.rows-1, -1, -1):\n",
    "        if next_grid[row][col] == 0:\n",
    "            break\n",
    "    next_grid[row][col] = mark\n",
    "    return next_grid\n",
    "\n",
    "def get_heuristic_NoLook(grid, mark, config):\n",
    "    num_threes = count_windows(grid, 3, mark, config)\n",
    "    num_fours = count_windows(grid, 4, mark, config)\n",
    "    num_threes_opp = count_windows(grid, 3, mark%2+1, config)\n",
    "    score = num_threes - 1e2*num_threes_opp + 1e6*num_fours\n",
    "    return score\n",
    "\n",
    "def check_window(window, num_discs, piece, config):\n",
    "    return (window.count(piece) == num_discs and window.count(0) == config.inarow-num_discs)\n",
    "    \n",
    "def count_windows(grid, num_discs, piece, config):\n",
    "    num_windows = 0\n",
    "    for row in range(config.rows):\n",
    "        for col in range(config.columns-(config.inarow-1)):\n",
    "            window = list(grid[row, col:col+config.inarow])\n",
    "            if check_window(window, num_discs, piece, config):\n",
    "                num_windows += 1\n",
    "    for row in range(config.rows-(config.inarow-1)):\n",
    "        for col in range(config.columns):\n",
    "            window = list(grid[row:row+config.inarow, col])\n",
    "            if check_window(window, num_discs, piece, config):\n",
    "                num_windows += 1\n",
    "    for row in range(config.rows-(config.inarow-1)):\n",
    "        for col in range(config.columns-(config.inarow-1)):\n",
    "            window = list(grid[range(row, row+config.inarow), range(col, col+config.inarow)])\n",
    "            if check_window(window, num_discs, piece, config):\n",
    "                num_windows += 1\n",
    "    for row in range(config.inarow-1, config.rows):\n",
    "        for col in range(config.columns-(config.inarow-1)):\n",
    "            window = list(grid[range(row, row-config.inarow, -1), range(col, col+config.inarow)])\n",
    "            if check_window(window, num_discs, piece, config):\n",
    "                num_windows += 1\n",
    "    return num_windows\n",
    "\n",
    "def NoLookAheadAgent(obs, config, get_scores = False):\n",
    "    valid_moves = [c for c in range(config.columns) if obs.board[c] == 0]\n",
    "    grid = np.asarray(obs.board).reshape(config.rows, config.columns)\n",
    "    scores = dict(zip(valid_moves, [score_move_NoLook(grid, col, obs.mark, config) for col in valid_moves]))\n",
    "    max_cols = [key for key in scores.keys() if scores[key] == max(scores.values())]\n",
    "    if get_scores:\n",
    "        return random.choice(max_cols), scores\n",
    "    return random.choice(max_cols)"
   ]
  },
  {
   "cell_type": "code",
   "execution_count": 63,
   "metadata": {},
   "outputs": [],
   "source": [
    "def OneStepLookAheadAgent(obs, config, get_scores = False):\n",
    "    \n",
    "    import numpy as np\n",
    "    import random\n",
    "\n",
    "    A = 100\n",
    "    B = 5\n",
    "    C = 1\n",
    "    D = -2\n",
    "    E = -20\n",
    "\n",
    "    def score_move_OneStep(grid, col, mark, config):\n",
    "        next_grid = drop_piece_OneStep(grid, col, mark, config)\n",
    "        score = get_heuristic_OneStep(next_grid, mark, config)\n",
    "        return score\n",
    "\n",
    "    def drop_piece_OneStep(grid, col, mark, config):\n",
    "        next_grid = grid.copy()\n",
    "        for row in range(config.rows-1, -1, -1):\n",
    "            if next_grid[row][col] == 0:\n",
    "                break\n",
    "        next_grid[row][col] = mark\n",
    "        return next_grid\n",
    "\n",
    "    def get_heuristic_OneStep(grid, mark, config):\n",
    "        num_twos = count_windows_OneStep(grid, 2, mark, config)\n",
    "        num_threes = count_windows_OneStep(grid, 3, mark, config)\n",
    "        num_fours = count_windows_OneStep(grid, 4, mark, config)\n",
    "        num_twos_opp = count_windows_OneStep(grid, 2, mark%2+1, config)\n",
    "        num_threes_opp = count_windows_OneStep(grid, 3, mark%2+1, config)\n",
    "        score = A*num_fours + B*num_threes + C*num_twos + D*num_twos_opp + E*num_threes_opp\n",
    "        print(grid)\n",
    "        print(num_twos, num_threes, num_fours, num_twos_opp, num_threes_opp, score)\n",
    "        print(\"______\")\n",
    "        return score\n",
    "\n",
    "    def check_window_OneStep(window, num_discs, piece, config):\n",
    "        return (window.count(piece) == num_discs and window.count(0) == config.inarow-num_discs)\n",
    "        \n",
    "    def count_windows_OneStep(grid, num_discs, piece, config):\n",
    "        num_windows = 0\n",
    "        for row in range(config.rows):\n",
    "            for col in range(config.columns-(config.inarow-1)):\n",
    "                window = list(grid[row, col:col+config.inarow])\n",
    "                if check_window_OneStep(window, num_discs, piece, config):\n",
    "                    num_windows += 1\n",
    "        for row in range(config.rows-(config.inarow-1)):\n",
    "            for col in range(config.columns):\n",
    "                window = list(grid[row:row+config.inarow, col])\n",
    "                if check_window_OneStep(window, num_discs, piece, config):\n",
    "                    num_windows += 1\n",
    "        for row in range(config.rows-(config.inarow-1)):\n",
    "            for col in range(config.columns-(config.inarow-1)):\n",
    "                window = list(grid[range(row, row+config.inarow), range(col, col+config.inarow)])\n",
    "                if check_window_OneStep(window, num_discs, piece, config):\n",
    "                    num_windows += 1\n",
    "        for row in range(config.inarow-1, config.rows):\n",
    "            for col in range(config.columns-(config.inarow-1)):\n",
    "                window = list(grid[range(row, row-config.inarow, -1), range(col, col+config.inarow)])\n",
    "                if check_window_OneStep(window, num_discs, piece, config):\n",
    "                    num_windows += 1\n",
    "        return num_windows\n",
    "    \n",
    "    valid_moves = [c for c in range(config.columns) if obs.board[c] == 0]\n",
    "    grid = np.asarray(obs.board).reshape(config.rows, config.columns)\n",
    "    scores = dict(zip(valid_moves, [score_move_OneStep(grid, col, obs.mark, config) for col in valid_moves]))\n",
    "    max_cols = [key for key in scores.keys() if scores[key] == max(scores.values())]\n",
    "    if get_scores:\n",
    "        return random.choice(max_cols), scores, max_cols\n",
    "    return random.choice(max_cols)"
   ]
  },
  {
   "cell_type": "markdown",
   "metadata": {},
   "source": [
    "## Scores"
   ]
  },
  {
   "cell_type": "code",
   "execution_count": 64,
   "metadata": {},
   "outputs": [],
   "source": [
    "from tqdm import tqdm\n",
    "\n",
    "def get_win_percentages(agent1, agent2, n_rounds=100, info=False):\n",
    "    config = {'rows': 6, 'columns': 7, 'inarow': 4}  \n",
    "    outcomes = evaluate(\"connectx\", [agent1, agent2], config, [], n_rounds//2)  \n",
    "    outcomes += [[b,a] for [a,b] in evaluate(\"connectx\", [agent2, agent1], config, [], n_rounds-n_rounds//2)]\n",
    "    agent_1_procent = np.round(outcomes.count([1,-1])/len(outcomes)*100, 2)\n",
    "    agent_2_procent = np.round(outcomes.count([-1,1])/len(outcomes)*100, 2)\n",
    "    if info:\n",
    "        print(\"Agent 1 Win Percentage:\", agent_1_procent, \"%\")\n",
    "        print(\"Agent 2 Win Percentage:\", agent_2_procent, \"%\")\n",
    "        print(\"Number of Invalid Plays by Agent 1:\", outcomes.count([None, 0]))\n",
    "        print(\"Number of Invalid Plays by Agent 2:\", outcomes.count([0, None]))\n",
    "    return (agent_1_procent, agent_2_procent)\n",
    "\n",
    "def get_percentage_table(agents, names, n_rounds=20):\n",
    "    table = []\n",
    "    header = [\"Agent\"] + names\n",
    "    table.append(header)\n",
    "\n",
    "    for j in tqdm(range(len(agents))):\n",
    "        agent1 = agents[j]\n",
    "        row = [names[j]]\n",
    "        for i in range(len(agents)):\n",
    "            agent2 = agents[i]\n",
    "            if agent1 == agent2:\n",
    "                row.append(\"-\")\n",
    "                continue\n",
    "            agent1_percentage, agent2_percentage = get_win_percentages(agent1, agent2, n_rounds=n_rounds)\n",
    "            print(agent1_percentage, agent2_percentage)\n",
    "            row.append(f\"{agent1_percentage:.2f}% over {names[i]}\")\n",
    "        table.append(row)\n",
    "\n",
    "    max_lengths = [max(len(str(row[i])) for row in table) for i in range(len(header))]\n",
    "\n",
    "    for row in table:\n",
    "        print(\" | \".join(str(row[i]).ljust(max_lengths[i]) for i in range(len(header))))"
   ]
  },
  {
   "cell_type": "markdown",
   "metadata": {},
   "source": [
    "## Minimax algorithm (New agent)"
   ]
  },
  {
   "cell_type": "code",
   "execution_count": 65,
   "metadata": {},
   "outputs": [],
   "source": [
    "def drop_piece(grid, col, mark, config):\n",
    "    next_grid = grid.copy()\n",
    "    for row in range(config.rows-1, -1, -1):\n",
    "        if next_grid[row][col] == 0:\n",
    "            break\n",
    "    next_grid[row][col] = mark\n",
    "    return next_grid\n",
    "\n",
    "def check_window(window, num_discs, piece, config):\n",
    "    return (window.count(piece) == num_discs and window.count(0) == config.inarow-num_discs)\n",
    "\n",
    "def count_windows(grid, num_discs, piece, config):\n",
    "    num_windows = 0\n",
    "    for row in range(config.rows):\n",
    "        for col in range(config.columns-(config.inarow-1)):\n",
    "            window = list(grid[row, col:col+config.inarow])\n",
    "            if check_window(window, num_discs, piece, config):\n",
    "                num_windows += 1\n",
    "    for row in range(config.rows-(config.inarow-1)):\n",
    "        for col in range(config.columns):\n",
    "            window = list(grid[row:row+config.inarow, col])\n",
    "            if check_window(window, num_discs, piece, config):\n",
    "                num_windows += 1\n",
    "    for row in range(config.rows-(config.inarow-1)):\n",
    "        for col in range(config.columns-(config.inarow-1)):\n",
    "            window = list(grid[range(row, row+config.inarow), range(col, col+config.inarow)])\n",
    "            if check_window(window, num_discs, piece, config):\n",
    "                num_windows += 1\n",
    "    for row in range(config.inarow-1, config.rows):\n",
    "        for col in range(config.columns-(config.inarow-1)):\n",
    "            window = list(grid[range(row, row-config.inarow, -1), range(col, col+config.inarow)])\n",
    "            if check_window(window, num_discs, piece, config):\n",
    "                num_windows += 1\n",
    "    return num_windows"
   ]
  },
  {
   "cell_type": "code",
   "execution_count": 66,
   "metadata": {},
   "outputs": [],
   "source": [
    "def get_heuristic(grid, mark, config):\n",
    "    num_threes = count_windows(grid, 3, mark, config)\n",
    "    num_fours = count_windows(grid, 4, mark, config)\n",
    "    num_threes_opp = count_windows(grid, 3, mark%2+1, config)\n",
    "    num_fours_opp = count_windows(grid, 4, mark%2+1, config)\n",
    "    score = num_threes - 1e2*num_threes_opp - 1e4*num_fours_opp + 1e6*num_fours\n",
    "    return score"
   ]
  },
  {
   "cell_type": "code",
   "execution_count": 67,
   "metadata": {},
   "outputs": [],
   "source": [
    "def score_move(grid, col, mark, config, nsteps):\n",
    "    next_grid = drop_piece(grid, col, mark, config)\n",
    "    score = minimax(next_grid, nsteps-1, False, mark, config)\n",
    "    return score\n",
    "\n",
    "def is_terminal_window(window, config):\n",
    "    return window.count(1) == config.inarow or window.count(2) == config.inarow\n",
    "\n",
    "def is_terminal_node(grid, config):\n",
    "    if list(grid[0, :]).count(0) == 0:\n",
    "        return True \n",
    "    for row in range(config.rows):\n",
    "        for col in range(config.columns-(config.inarow-1)):\n",
    "            window = list(grid[row, col:col+config.inarow])\n",
    "            if is_terminal_window(window, config):\n",
    "                return True\n",
    "    for row in range(config.rows-(config.inarow-1)):\n",
    "        for col in range(config.columns):\n",
    "            window = list(grid[row:row+config.inarow, col])\n",
    "            if is_terminal_window(window, config):\n",
    "                return True\n",
    "    for row in range(config.rows-(config.inarow-1)):\n",
    "        for col in range(config.columns-(config.inarow-1)):\n",
    "            window = list(grid[range(row, row+config.inarow), range(col, col+config.inarow)])\n",
    "            if is_terminal_window(window, config):\n",
    "                return True\n",
    "    for row in range(config.inarow-1, config.rows):\n",
    "        for col in range(config.columns-(config.inarow-1)):\n",
    "            window = list(grid[range(row, row-config.inarow, -1), range(col, col+config.inarow)])\n",
    "            if is_terminal_window(window, config):\n",
    "                return True\n",
    "    return False\n",
    "\n",
    "def minimax(node, depth, maximizingPlayer, mark, config):\n",
    "    is_terminal = is_terminal_node(node, config)\n",
    "    valid_moves = [c for c in range(config.columns) if node[0][c] == 0]\n",
    "    if depth == 0 or is_terminal:\n",
    "        return get_heuristic(node, mark, config)\n",
    "    if maximizingPlayer:\n",
    "        value = -np.Inf\n",
    "        for col in valid_moves:\n",
    "            child = drop_piece(node, col, mark, config)\n",
    "            value = max(value, minimax(child, depth-1, False, mark, config))\n",
    "        return value\n",
    "    else:\n",
    "        value = np.Inf\n",
    "        for col in valid_moves:\n",
    "            child = drop_piece(node, col, mark%2+1, config)\n",
    "            value = min(value, minimax(child, depth-1, True, mark, config))\n",
    "        return value"
   ]
  },
  {
   "cell_type": "code",
   "execution_count": 68,
   "metadata": {},
   "outputs": [],
   "source": [
    "N_STEPS = 3\n",
    "\n",
    "def nStepLookAheadAgent(obs, config):\n",
    "    valid_moves = [c for c in range(config.columns) if obs.board[c] == 0]\n",
    "    grid = np.asarray(obs.board).reshape(config.rows, config.columns)\n",
    "    scores = dict(zip(valid_moves, [score_move(grid, col, obs.mark, config, N_STEPS) for col in valid_moves]))\n",
    "    max_cols = [key for key in scores.keys() if scores[key] == max(scores.values())]\n",
    "    return random.choice(max_cols)"
   ]
  },
  {
   "cell_type": "code",
   "execution_count": 58,
   "metadata": {},
   "outputs": [
    {
     "data": {
      "text/plain": [
       "(100.0, 0.0)"
      ]
     },
     "execution_count": 58,
     "metadata": {},
     "output_type": "execute_result"
    }
   ],
   "source": [
    "get_win_percentages(agent1=nStepLookAheadAgent, agent2=\"random\", n_rounds=10)"
   ]
  },
  {
   "cell_type": "code",
   "execution_count": 72,
   "metadata": {},
   "outputs": [
    {
     "name": "stdout",
     "output_type": "stream",
     "text": [
      "Agent 1 Win Percentage: 90.0 %\n",
      "Agent 2 Win Percentage: 10.0 %\n",
      "Number of Invalid Plays by Agent 1: 0\n",
      "Number of Invalid Plays by Agent 2: 0\n"
     ]
    },
    {
     "data": {
      "text/plain": [
       "(90.0, 10.0)"
      ]
     },
     "execution_count": 72,
     "metadata": {},
     "output_type": "execute_result"
    }
   ],
   "source": [
    "get_win_percentages(agent1=nStepLookAheadAgent, agent2=NoLookAheadAgent, n_rounds=10, info=True)"
   ]
  },
  {
   "cell_type": "code",
   "execution_count": 75,
   "metadata": {},
   "outputs": [
    {
     "name": "stdout",
     "output_type": "stream",
     "text": [
      "Agent 1 Win Percentage: 49.0 %\n",
      "Agent 2 Win Percentage: 45.0 %\n",
      "Number of Invalid Plays by Agent 1: 0\n",
      "Number of Invalid Plays by Agent 2: 0\n"
     ]
    },
    {
     "data": {
      "text/plain": [
       "(49.0, 45.0)"
      ]
     },
     "execution_count": 75,
     "metadata": {},
     "output_type": "execute_result"
    }
   ],
   "source": [
    "# To get true percentage between two latest agents:\n",
    "get_win_percentages(agent1=nStepLookAheadAgent, agent2=OneStepLookAheadAgent, n_rounds=100, info=True)"
   ]
  },
  {
   "cell_type": "code",
   "execution_count": 76,
   "metadata": {},
   "outputs": [
    {
     "name": "stdout",
     "output_type": "stream",
     "text": [
      "Agent 1 Win Percentage: 23.0 %\n",
      "Agent 2 Win Percentage: 77.0 %\n",
      "Number of Invalid Plays by Agent 1: 0\n",
      "Number of Invalid Plays by Agent 2: 0\n"
     ]
    },
    {
     "data": {
      "text/plain": [
       "(23.0, 77.0)"
      ]
     },
     "execution_count": 76,
     "metadata": {},
     "output_type": "execute_result"
    }
   ],
   "source": [
    "get_win_percentages(agent1=NoLookAheadAgent, agent2=OneStepLookAheadAgent, n_rounds=100, info=True)"
   ]
  },
  {
   "cell_type": "code",
   "execution_count": 77,
   "metadata": {},
   "outputs": [
    {
     "name": "stdout",
     "output_type": "stream",
     "text": [
      "Agent 1 Win Percentage: 78.0 %\n",
      "Agent 2 Win Percentage: 19.0 %\n",
      "Number of Invalid Plays by Agent 1: 0\n",
      "Number of Invalid Plays by Agent 2: 0\n"
     ]
    },
    {
     "data": {
      "text/plain": [
       "(78.0, 19.0)"
      ]
     },
     "execution_count": 77,
     "metadata": {},
     "output_type": "execute_result"
    }
   ],
   "source": [
    "get_win_percentages(agent1=nStepLookAheadAgent, agent2=NoLookAheadAgent, n_rounds=100, info=True)"
   ]
  },
  {
   "cell_type": "markdown",
   "metadata": {},
   "source": [
    "#### Table"
   ]
  },
  {
   "cell_type": "code",
   "execution_count": 70,
   "metadata": {},
   "outputs": [
    {
     "name": "stderr",
     "output_type": "stream",
     "text": [
      "  0%|          | 0/4 [00:00<?, ?it/s]"
     ]
    },
    {
     "name": "stdout",
     "output_type": "stream",
     "text": [
      "0.0 100.0\n",
      "0.0 100.0\n"
     ]
    },
    {
     "name": "stderr",
     "output_type": "stream",
     "text": [
      " 25%|██▌       | 1/4 [00:51<02:33, 51.05s/it]"
     ]
    },
    {
     "name": "stdout",
     "output_type": "stream",
     "text": [
      "0.0 100.0\n",
      "100.0 0.0\n",
      "15.0 85.0\n"
     ]
    },
    {
     "name": "stderr",
     "output_type": "stream",
     "text": [
      " 50%|█████     | 2/4 [01:59<02:02, 61.20s/it]"
     ]
    },
    {
     "name": "stdout",
     "output_type": "stream",
     "text": [
      "15.0 85.0\n",
      "100.0 0.0\n",
      "65.0 35.0\n"
     ]
    },
    {
     "name": "stderr",
     "output_type": "stream",
     "text": [
      " 75%|███████▌  | 3/4 [03:08<01:04, 64.98s/it]"
     ]
    },
    {
     "name": "stdout",
     "output_type": "stream",
     "text": [
      "40.0 60.0\n",
      "100.0 0.0\n",
      "80.0 15.0\n"
     ]
    },
    {
     "name": "stderr",
     "output_type": "stream",
     "text": [
      "100%|██████████| 4/4 [06:00<00:00, 90.05s/it] "
     ]
    },
    {
     "name": "stdout",
     "output_type": "stream",
     "text": [
      "40.0 50.0\n",
      "Agent        | Random              | No lookahead             | One-Step             | 3-Step            \n",
      "Random       | -                   | 0.00% over No lookahead  | 0.00% over One-Step  | 0.00% over 3-Step \n",
      "No lookahead | 100.00% over Random | -                        | 15.00% over One-Step | 15.00% over 3-Step\n",
      "One-Step     | 100.00% over Random | 65.00% over No lookahead | -                    | 40.00% over 3-Step\n",
      "3-Step       | 100.00% over Random | 80.00% over No lookahead | 40.00% over One-Step | -                 \n"
     ]
    },
    {
     "name": "stderr",
     "output_type": "stream",
     "text": [
      "\n"
     ]
    }
   ],
   "source": [
    "agents = [\"random\", NoLookAheadAgent, OneStepLookAheadAgent, nStepLookAheadAgent]\n",
    "get_percentage_table(agents, names = [\"Random\", \"No lookahead\", \"One-Step\", \"3-Step\"], n_rounds=20)"
   ]
  },
  {
   "cell_type": "markdown",
   "metadata": {},
   "source": [
    "### Due to slow processing times, the number of games played is only 10, which makes to percentages extremely unreliable"
   ]
  },
  {
   "cell_type": "markdown",
   "metadata": {},
   "source": []
  }
 ],
 "metadata": {
  "kernelspec": {
   "display_name": "Python 3.11.2 64-bit",
   "language": "python",
   "name": "python3"
  },
  "language_info": {
   "codemirror_mode": {
    "name": "ipython",
    "version": 3
   },
   "file_extension": ".py",
   "mimetype": "text/x-python",
   "name": "python",
   "nbconvert_exporter": "python",
   "pygments_lexer": "ipython3",
   "version": "3.11.2"
  },
  "orig_nbformat": 4,
  "vscode": {
   "interpreter": {
    "hash": "b0fa6594d8f4cbf19f97940f81e996739fb7646882a419484c72d19e05852a7e"
   }
  }
 },
 "nbformat": 4,
 "nbformat_minor": 2
}
