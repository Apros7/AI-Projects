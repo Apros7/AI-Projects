{
 "cells": [
  {
   "cell_type": "markdown",
   "metadata": {},
   "source": [
    "### Single layer NN with softmax"
   ]
  },
  {
   "cell_type": "code",
   "execution_count": 55,
   "metadata": {},
   "outputs": [],
   "source": [
    "import torch\n",
    "import matplotlib.pyplot as plt"
   ]
  },
  {
   "cell_type": "code",
   "execution_count": 56,
   "metadata": {},
   "outputs": [],
   "source": [
    "words = open(\"names.txt\", \"r\").read().splitlines()"
   ]
  },
  {
   "cell_type": "code",
   "execution_count": 57,
   "metadata": {},
   "outputs": [],
   "source": [
    "chars = sorted(list(set(\"\".join(words))))\n",
    "stoi = {s:i+1 for i,s in enumerate(chars)}\n",
    "stoi[\".\"] = 0\n",
    "itos = {i:s for s,i in stoi.items()}"
   ]
  },
  {
   "cell_type": "code",
   "execution_count": 58,
   "metadata": {},
   "outputs": [
    {
     "name": "stdout",
     "output_type": "stream",
     "text": [
      "number of examples =  16\n"
     ]
    }
   ],
   "source": [
    "xs, ys = [], []\n",
    "for word in words[:3]:\n",
    "    characters = [\".\"] + list(word) + [\".\"]\n",
    "    for ch1, ch2 in zip(characters, characters[1:]):\n",
    "        ix1 = stoi[ch1]\n",
    "        ix2 = stoi[ch2]\n",
    "        xs.append(ix1)\n",
    "        ys.append(ix2)\n",
    "\n",
    "xs = torch.tensor(xs)\n",
    "ys = torch.tensor(ys)\n",
    "num = xs.nelement()\n",
    "print(\"number of examples = \", num)"
   ]
  },
  {
   "cell_type": "code",
   "execution_count": 59,
   "metadata": {},
   "outputs": [],
   "source": [
    "# input to nn has to be float\n",
    "import torch.nn.functional as F\n",
    "xenc = F.one_hot(xs, num_classes=27).float()"
   ]
  },
  {
   "cell_type": "code",
   "execution_count": 60,
   "metadata": {},
   "outputs": [
    {
     "data": {
      "text/plain": [
       "torch.Size([16, 27])"
      ]
     },
     "execution_count": 60,
     "metadata": {},
     "output_type": "execute_result"
    }
   ],
   "source": [
    "xenc.shape"
   ]
  },
  {
   "cell_type": "code",
   "execution_count": 61,
   "metadata": {},
   "outputs": [
    {
     "data": {
      "text/plain": [
       "<matplotlib.image.AxesImage at 0x129312500>"
      ]
     },
     "execution_count": 61,
     "metadata": {},
     "output_type": "execute_result"
    },
    {
     "data": {
      "image/png": "[encoded data removed]",
      "text/plain": [
       "<Figure size 640x480 with 1 Axes>"
      ]
     },
     "metadata": {},
     "output_type": "display_data"
    }
   ],
   "source": [
    "plt.imshow(xenc)"
   ]
  },
  {
   "cell_type": "code",
   "execution_count": 62,
   "metadata": {},
   "outputs": [
    {
     "data": {
      "text/plain": [
       "tensor([ 0,  5, 13, 13,  1,  0, 15, 12,  9, 22,  9,  1,  0,  1, 22,  1])"
      ]
     },
     "execution_count": 62,
     "metadata": {},
     "output_type": "execute_result"
    }
   ],
   "source": [
    "xs"
   ]
  },
  {
   "cell_type": "code",
   "execution_count": 63,
   "metadata": {},
   "outputs": [
    {
     "data": {
      "text/plain": [
       "tensor([ 5, 13, 13,  1,  0, 15, 12,  9, 22,  9,  1,  0,  1, 22,  1,  0])"
      ]
     },
     "execution_count": 63,
     "metadata": {},
     "output_type": "execute_result"
    }
   ],
   "source": [
    "ys"
   ]
  },
  {
   "cell_type": "code",
   "execution_count": 71,
   "metadata": {},
   "outputs": [
    {
     "name": "stdout",
     "output_type": "stream",
     "text": [
      "number of examples =  228146\n"
     ]
    }
   ],
   "source": [
    "xs, ys = [], []\n",
    "for word in words:\n",
    "    characters = [\".\"] + list(word) + [\".\"]\n",
    "    for ch1, ch2 in zip(characters, characters[1:]):\n",
    "        ix1 = stoi[ch1]\n",
    "        ix2 = stoi[ch2]\n",
    "        xs.append(ix1)\n",
    "        ys.append(ix2)\n",
    "\n",
    "xs = torch.tensor(xs)\n",
    "ys = torch.tensor(ys)\n",
    "num = xs.nelement()\n",
    "print(\"number of examples = \", num)"
   ]
  },
  {
   "cell_type": "code",
   "execution_count": 72,
   "metadata": {},
   "outputs": [],
   "source": [
    "# initializing 27 neurons with each 27 inputs and therefore 27 weights\n",
    "g = torch.Generator().manual_seed(2147483647)\n",
    "W = torch.randn((27,27), generator=g, requires_grad=True)"
   ]
  },
  {
   "cell_type": "code",
   "execution_count": 75,
   "metadata": {},
   "outputs": [
    {
     "name": "stdout",
     "output_type": "stream",
     "text": [
      "2.4834258556365967\n",
      "2.4833855628967285\n",
      "2.4833483695983887\n",
      "2.4833130836486816\n",
      "2.4832797050476074\n",
      "2.483247756958008\n",
      "2.4832165241241455\n",
      "2.483186960220337\n",
      "2.4831581115722656\n",
      "2.4831299781799316\n",
      "2.483103036880493\n",
      "2.483076333999634\n",
      "2.48305082321167\n",
      "2.4830260276794434\n",
      "2.483001708984375\n",
      "2.4829773902893066\n",
      "2.482954263687134\n",
      "2.48293137550354\n",
      "2.4829094409942627\n",
      "2.4828872680664062\n",
      "2.482865571975708\n",
      "2.4828450679779053\n",
      "2.4828243255615234\n",
      "2.4828040599823\n",
      "2.4827845096588135\n",
      "2.482764959335327\n",
      "2.48274564743042\n",
      "2.48272705078125\n",
      "2.482708215713501\n",
      "2.4826903343200684\n",
      "2.4826724529266357\n",
      "2.4826550483703613\n",
      "2.482637405395508\n",
      "2.4826204776763916\n",
      "2.4826037883758545\n",
      "2.4825873374938965\n",
      "2.4825706481933594\n",
      "2.4825549125671387\n",
      "2.482538938522339\n",
      "2.482523202896118\n",
      "2.4825077056884766\n",
      "2.482492446899414\n",
      "2.4824774265289307\n",
      "2.4824626445770264\n",
      "2.482448101043701\n",
      "2.482433557510376\n",
      "2.48241925239563\n",
      "2.4824047088623047\n",
      "2.482390880584717\n",
      "2.482377290725708\n",
      "2.482363700866699\n",
      "2.4823501110076904\n",
      "2.4823367595672607\n",
      "2.48232364654541\n",
      "2.4823107719421387\n",
      "2.482297897338867\n",
      "2.4822850227355957\n",
      "2.4822723865509033\n",
      "2.48225998878479\n",
      "2.4822475910186768\n",
      "2.482235908508301\n",
      "2.4822235107421875\n",
      "2.4822115898132324\n",
      "2.4821996688842773\n",
      "2.4821882247924805\n",
      "2.4821765422821045\n",
      "2.4821653366088867\n",
      "2.48215389251709\n",
      "2.482142925262451\n",
      "2.4821314811706543\n",
      "2.4821207523345947\n",
      "2.482109546661377\n",
      "2.4820988178253174\n",
      "2.482088088989258\n",
      "2.4820778369903564\n",
      "2.482067584991455\n",
      "2.4820568561553955\n",
      "2.482046365737915\n",
      "2.482036590576172\n",
      "2.4820263385772705\n",
      "2.482016086578369\n",
      "2.482006549835205\n",
      "2.481996536254883\n",
      "2.4819869995117188\n",
      "2.4819769859313965\n",
      "2.4819676876068115\n",
      "2.4819583892822266\n",
      "2.4819488525390625\n",
      "2.4819395542144775\n",
      "2.4819300174713135\n",
      "2.4819211959838867\n",
      "2.4819118976593018\n",
      "2.481903076171875\n",
      "2.4818942546844482\n",
      "2.4818851947784424\n",
      "2.4818766117095947\n",
      "2.481868028640747\n",
      "2.4818594455718994\n",
      "2.4818508625030518\n",
      "2.481842279434204\n"
     ]
    }
   ],
   "source": [
    "# gradient descent:\n",
    "for k in range(100):\n",
    "    # forward pass\n",
    "    xenc = F.one_hot(xs, num_classes=27).float()\n",
    "    log_counts = xenc @ W\n",
    "    counts = log_counts.exp() # Is the N matrix\n",
    "    probs = counts / counts.sum(1, keepdims=True) # probs for next character\n",
    "    loss = -probs[torch.arange(num), ys].log().mean() + 0.01*(W**2).mean() # second part is smoothing\n",
    "    # Softmax\n",
    "    print(loss.item())\n",
    "\n",
    "    # backward pass\n",
    "    W.grad = None\n",
    "    loss.backward()\n",
    "\n",
    "    # update\n",
    "    W.data += -50 * W.grad"
   ]
  },
  {
   "cell_type": "code",
   "execution_count": 43,
   "metadata": {},
   "outputs": [],
   "source": [
    "# forward pass\n",
    "xenc = F.one_hot(xs, num_classes=27).float()\n",
    "log_counts = xenc @ W\n",
    "counts = log_counts.exp() # Is the N matrix\n",
    "probs = counts / counts.sum(1, keepdims=True) # probs for next character\n",
    "loss = -probs[torch.arange(5), ys].log().mean()\n",
    "# Softmax"
   ]
  },
  {
   "cell_type": "code",
   "execution_count": 78,
   "metadata": {},
   "outputs": [
    {
     "name": "stdout",
     "output_type": "stream",
     "text": [
      "mor\n",
      "axx\n",
      "minaymoryles\n",
      "kondlaisah\n",
      "anchthizarie\n",
      "odaren\n",
      "iaddash\n",
      "h\n",
      "jionatien\n",
      "egvonn\n"
     ]
    }
   ],
   "source": [
    "g = torch.Generator().manual_seed(2147483647)\n",
    "for i in range(10):\n",
    "    out = []\n",
    "    ix = 0\n",
    "    while True:\n",
    "        xenc = F.one_hot(torch.tensor([ix]), num_classes=27).float()\n",
    "        log_counts = xenc @ W\n",
    "        counts = log_counts.exp() # Is the N matrix\n",
    "        p = counts / counts.sum(1, keepdims=True) # probs for next character\n",
    "        ix = torch.multinomial(p, num_samples=1, replacement=True, generator=g).item()\n",
    "        if ix == 0:\n",
    "            break\n",
    "        out.append(itos[ix])\n",
    "    print(\"\".join(out))"
   ]
  },
  {
   "cell_type": "code",
   "execution_count": null,
   "metadata": {},
   "outputs": [],
   "source": []
  }
 ],
 "metadata": {
  "kernelspec": {
   "display_name": "Python 3.10.9 64-bit",
   "language": "python",
   "name": "python3"
  },
  "language_info": {
   "codemirror_mode": {
    "name": "ipython",
    "version": 3
   },
   "file_extension": ".py",
   "mimetype": "text/x-python",
   "name": "python",
   "nbconvert_exporter": "python",
   "pygments_lexer": "ipython3",
   "version": "3.10.9"
  },
  "orig_nbformat": 4,
  "vscode": {
   "interpreter": {
    "hash": "b0fa6594d8f4cbf19f97940f81e996739fb7646882a419484c72d19e05852a7e"
   }
  }
 },
 "nbformat": 4,
 "nbformat_minor": 2
}
