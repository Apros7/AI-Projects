{
 "cells": [
  {
   "cell_type": "markdown",
   "metadata": {},
   "source": [
    "I found out that there are multiple wrongly labeled objects in MNIST. Discovering this made a massive boost in the achieved accuracy."
   ]
  },
  {
   "cell_type": "markdown",
   "metadata": {},
   "source": [
    "- Accuracy before datacleaning: 0.9762714285714286"
   ]
  },
  {
   "cell_type": "code",
   "execution_count": 39,
   "metadata": {},
   "outputs": [],
   "source": [
    "import matplotlib.pyplot as plt\n",
    "from torch.optim import Adam\n",
    "from cleanlab.filter import find_label_issues\n",
    "\n",
    "import torch\n",
    "from torch import nn\n",
    "from torch.utils.data import DataLoader\n",
    "import torchvision.datasets as datasets\n",
    "import torchvision.transforms as transforms\n",
    "import torch.nn.functional as F\n",
    "from torch.optim import AdamW\n",
    "from sklearn.datasets import fetch_openml\n",
    "from sklearn.model_selection import cross_val_predict\n",
    "from sklearn.metrics import accuracy_score\n",
    "from sklearn.model_selection import train_test_split\n",
    "from skorch import NeuralNetClassifier\n",
    "import numpy as np\n",
    "import time"
   ]
  },
  {
   "cell_type": "code",
   "execution_count": 6,
   "metadata": {},
   "outputs": [
    {
     "name": "stdout",
     "output_type": "stream",
     "text": [
      "cpu\n"
     ]
    }
   ],
   "source": [
    "device = torch.device(\"cuda:0\" if torch.cuda.is_available() else \"cpu\"); print(device)"
   ]
  },
  {
   "cell_type": "code",
   "execution_count": 7,
   "metadata": {},
   "outputs": [],
   "source": [
    "mnist = fetch_openml(\"mnist_784\")  # Fetch the MNIST dataset\n",
    "\n",
    "X = mnist.data.astype(\"float32\").to_numpy() # 2D array (images are flattened into 1D)\n",
    "X /= 255.0  # Scale the features to the [0, 1] range\n",
    "X = X.reshape(len(X), 1, 28, 28)  # reshape into [N, C, H, W] for PyTorch\n",
    "labels = mnist.target.astype(\"int64\").to_numpy()"
   ]
  },
  {
   "cell_type": "code",
   "execution_count": 137,
   "metadata": {},
   "outputs": [],
   "source": [
    "class ClassifierModule(nn.Module):\n",
    "    def __init__(self):\n",
    "        super().__init__()\n",
    "\n",
    "        self.cnn = nn.Sequential(\n",
    "            nn.Conv2d(1, 6, 3, bias=False),\n",
    "            nn.ReLU(),\n",
    "            nn.BatchNorm2d(6),\n",
    "            nn.MaxPool2d(kerneal_size=2, stride=2),\n",
    "\n",
    "            nn.Conv2d(6, 16, 3, bias=False),\n",
    "            nn.ReLU(),\n",
    "            nn.BatchNorm2d(16),\n",
    "            nn.MaxPool2d(kernel_size=2, stride=2),\n",
    "        )\n",
    "        self.out = nn.Sequential(\n",
    "            nn.Flatten(),\n",
    "            nn.Linear(400, 400),\n",
    "            nn.ReLU(),\n",
    "            nn.Dropout(0.2),\n",
    "\n",
    "            nn.Linear(400, 200),\n",
    "            nn.ReLU(),\n",
    "\n",
    "            nn.Dropout(0.2),\n",
    "            nn.Linear(200, 10),\n",
    "            nn.Softmax(dim=-1),\n",
    "        )\n",
    "\n",
    "    def forward(self, X):\n",
    "        X = self.cnn(X)\n",
    "        X = self.out(X)\n",
    "        return X"
   ]
  },
  {
   "cell_type": "code",
   "execution_count": 65,
   "metadata": {},
   "outputs": [],
   "source": [
    "model_skorch = NeuralNetClassifier(ClassifierModule)"
   ]
  },
  {
   "cell_type": "code",
   "execution_count": 19,
   "metadata": {},
   "outputs": [
    {
     "name": "stdout",
     "output_type": "stream",
     "text": [
      "  epoch    train_loss    valid_acc    valid_loss     dur\n",
      "-------  ------------  -----------  ------------  ------\n",
      "      1        \u001b[36m0.8191\u001b[0m       \u001b[32m0.9117\u001b[0m        \u001b[35m0.3289\u001b[0m  5.1524\n",
      "      2        \u001b[36m0.2747\u001b[0m       \u001b[32m0.9383\u001b[0m        \u001b[35m0.2060\u001b[0m  4.6721\n",
      "      3        \u001b[36m0.1951\u001b[0m       \u001b[32m0.9516\u001b[0m        \u001b[35m0.1607\u001b[0m  4.5821\n",
      "      4        \u001b[36m0.1598\u001b[0m       \u001b[32m0.9585\u001b[0m        \u001b[35m0.1362\u001b[0m  4.5761\n",
      "      5        \u001b[36m0.1357\u001b[0m       \u001b[32m0.9633\u001b[0m        \u001b[35m0.1206\u001b[0m  4.5637\n",
      "      6        \u001b[36m0.1222\u001b[0m       \u001b[32m0.9664\u001b[0m        \u001b[35m0.1091\u001b[0m  4.5825\n",
      "      7        \u001b[36m0.1094\u001b[0m       \u001b[32m0.9689\u001b[0m        \u001b[35m0.1013\u001b[0m  4.5879\n",
      "      8        \u001b[36m0.0990\u001b[0m       \u001b[32m0.9705\u001b[0m        \u001b[35m0.0947\u001b[0m  4.5933\n",
      "      9        \u001b[36m0.0935\u001b[0m       \u001b[32m0.9729\u001b[0m        \u001b[35m0.0887\u001b[0m  4.5756\n",
      "     10        \u001b[36m0.0853\u001b[0m       \u001b[32m0.9735\u001b[0m        \u001b[35m0.0857\u001b[0m  4.5553\n",
      "  epoch    train_loss    valid_acc    valid_loss     dur\n",
      "-------  ------------  -----------  ------------  ------\n",
      "      1        \u001b[36m0.7135\u001b[0m       \u001b[32m0.9348\u001b[0m        \u001b[35m0.2604\u001b[0m  4.5557\n",
      "      2        \u001b[36m0.2305\u001b[0m       \u001b[32m0.9511\u001b[0m        \u001b[35m0.1748\u001b[0m  4.5537\n",
      "      3        \u001b[36m0.1696\u001b[0m       \u001b[32m0.9600\u001b[0m        \u001b[35m0.1424\u001b[0m  4.5471\n",
      "      4        \u001b[36m0.1390\u001b[0m       \u001b[32m0.9651\u001b[0m        \u001b[35m0.1238\u001b[0m  4.5659\n",
      "      5        \u001b[36m0.1205\u001b[0m       \u001b[32m0.9674\u001b[0m        \u001b[35m0.1121\u001b[0m  4.5730\n",
      "      6        \u001b[36m0.1078\u001b[0m       \u001b[32m0.9703\u001b[0m        \u001b[35m0.1031\u001b[0m  4.5698\n",
      "      7        \u001b[36m0.0967\u001b[0m       \u001b[32m0.9721\u001b[0m        \u001b[35m0.0973\u001b[0m  4.5625\n",
      "      8        \u001b[36m0.0869\u001b[0m       \u001b[32m0.9731\u001b[0m        \u001b[35m0.0922\u001b[0m  4.6326\n",
      "      9        \u001b[36m0.0810\u001b[0m       \u001b[32m0.9751\u001b[0m        \u001b[35m0.0880\u001b[0m  4.5829\n",
      "     10        \u001b[36m0.0753\u001b[0m       \u001b[32m0.9768\u001b[0m        \u001b[35m0.0851\u001b[0m  4.5776\n",
      "  epoch    train_loss    valid_acc    valid_loss     dur\n",
      "-------  ------------  -----------  ------------  ------\n",
      "      1        \u001b[36m0.7845\u001b[0m       \u001b[32m0.9297\u001b[0m        \u001b[35m0.2974\u001b[0m  4.5872\n",
      "      2        \u001b[36m0.2574\u001b[0m       \u001b[32m0.9499\u001b[0m        \u001b[35m0.1900\u001b[0m  4.5520\n",
      "      3        \u001b[36m0.1898\u001b[0m       \u001b[32m0.9578\u001b[0m        \u001b[35m0.1530\u001b[0m  4.7829\n",
      "      4        \u001b[36m0.1603\u001b[0m       \u001b[32m0.9631\u001b[0m        \u001b[35m0.1318\u001b[0m  4.5105\n",
      "      5        \u001b[36m0.1372\u001b[0m       \u001b[32m0.9658\u001b[0m        \u001b[35m0.1178\u001b[0m  4.5063\n",
      "      6        \u001b[36m0.1222\u001b[0m       \u001b[32m0.9690\u001b[0m        \u001b[35m0.1078\u001b[0m  4.4949\n",
      "      7        \u001b[36m0.1121\u001b[0m       \u001b[32m0.9719\u001b[0m        \u001b[35m0.0997\u001b[0m  4.4743\n",
      "      8        \u001b[36m0.1041\u001b[0m       \u001b[32m0.9730\u001b[0m        \u001b[35m0.0943\u001b[0m  4.4651\n",
      "      9        \u001b[36m0.0961\u001b[0m       \u001b[32m0.9747\u001b[0m        \u001b[35m0.0894\u001b[0m  4.4772\n",
      "     10        \u001b[36m0.0897\u001b[0m       \u001b[32m0.9758\u001b[0m        \u001b[35m0.0852\u001b[0m  4.5092\n"
     ]
    }
   ],
   "source": [
    "num_crossval_folds = 3  # for efficiency; values like 5 or 10 will generally work better\n",
    "pred_probs = cross_val_predict(\n",
    "    model_skorch,\n",
    "    X,\n",
    "    labels,\n",
    "    cv=num_crossval_folds,\n",
    "    method=\"predict_proba\",\n",
    ")"
   ]
  },
  {
   "cell_type": "code",
   "execution_count": 20,
   "metadata": {},
   "outputs": [
    {
     "name": "stdout",
     "output_type": "stream",
     "text": [
      "Cross-validated estimate of accuracy on held-out data: 0.9764857142857143\n"
     ]
    }
   ],
   "source": [
    "predicted_labels = pred_probs.argmax(axis=1)\n",
    "acc = accuracy_score(labels, predicted_labels)\n",
    "print(f\"Cross-validated estimate of accuracy on held-out data: {acc}\")"
   ]
  },
  {
   "cell_type": "code",
   "execution_count": 21,
   "metadata": {},
   "outputs": [
    {
     "name": "stdout",
     "output_type": "stream",
     "text": [
      "Cleanlab found 138 label issues.\n",
      "Top 15 most likely label errors: \n",
      " [59915 24798 28556  2720  8729 61014  7010   902 53216    80  2676  8200\n",
      " 63767 12183 31134]\n"
     ]
    }
   ],
   "source": [
    "from cleanlab.filter import find_label_issues\n",
    "\n",
    "ranked_label_issues = find_label_issues(\n",
    "    labels,\n",
    "    pred_probs,\n",
    "    return_indices_ranked_by=\"self_confidence\",\n",
    ")\n",
    "\n",
    "print(f\"Cleanlab found {len(ranked_label_issues)} label issues.\")\n",
    "print(f\"Top 15 most likely label errors: \\n {ranked_label_issues[:15]}\")"
   ]
  },
  {
   "cell_type": "code",
   "execution_count": 22,
   "metadata": {},
   "outputs": [
    {
     "name": "stdout",
     "output_type": "stream",
     "text": [
      "70000 70000\n",
      "(70000, 1, 28, 28) (70000,)\n",
      "69862 69862\n"
     ]
    }
   ],
   "source": [
    "print(len(X), len(labels))\n",
    "print(X.shape, labels.shape)\n",
    "new_X = np.delete(X, ranked_label_issues, axis=0)\n",
    "new_labels = np.delete(labels, ranked_label_issues, axis=0)\n",
    "print(len(new_X), len(new_labels))"
   ]
  },
  {
   "cell_type": "code",
   "execution_count": 36,
   "metadata": {},
   "outputs": [
    {
     "name": "stdout",
     "output_type": "stream",
     "text": [
      "  epoch    train_loss    valid_acc    valid_loss     dur\n",
      "-------  ------------  -----------  ------------  ------\n",
      "      1        \u001b[36m0.8432\u001b[0m       \u001b[32m0.9179\u001b[0m        \u001b[35m0.3117\u001b[0m  4.5077\n",
      "      2        \u001b[36m0.2541\u001b[0m       \u001b[32m0.9427\u001b[0m        \u001b[35m0.1863\u001b[0m  4.6991\n",
      "      3        \u001b[36m0.1786\u001b[0m       \u001b[32m0.9547\u001b[0m        \u001b[35m0.1418\u001b[0m  4.8610\n",
      "      4        \u001b[36m0.1429\u001b[0m       \u001b[32m0.9616\u001b[0m        \u001b[35m0.1179\u001b[0m  4.5875\n",
      "      5        \u001b[36m0.1233\u001b[0m       \u001b[32m0.9652\u001b[0m        \u001b[35m0.1031\u001b[0m  4.5515\n",
      "      6        \u001b[36m0.1090\u001b[0m       \u001b[32m0.9698\u001b[0m        \u001b[35m0.0921\u001b[0m  4.5964\n",
      "      7        \u001b[36m0.0992\u001b[0m       \u001b[32m0.9721\u001b[0m        \u001b[35m0.0840\u001b[0m  4.7270\n",
      "      8        \u001b[36m0.0884\u001b[0m       \u001b[32m0.9739\u001b[0m        \u001b[35m0.0779\u001b[0m  4.8036\n",
      "      9        \u001b[36m0.0820\u001b[0m       \u001b[32m0.9755\u001b[0m        \u001b[35m0.0724\u001b[0m  4.6150\n",
      "     10        \u001b[36m0.0760\u001b[0m       0.9752        \u001b[35m0.0696\u001b[0m  4.5920\n",
      "  epoch    train_loss    valid_acc    valid_loss     dur\n",
      "-------  ------------  -----------  ------------  ------\n",
      "      1        \u001b[36m0.8248\u001b[0m       \u001b[32m0.9232\u001b[0m        \u001b[35m0.2971\u001b[0m  4.5099\n",
      "      2        \u001b[36m0.2648\u001b[0m       \u001b[32m0.9475\u001b[0m        \u001b[35m0.1833\u001b[0m  4.5595\n",
      "      3        \u001b[36m0.1864\u001b[0m       \u001b[32m0.9573\u001b[0m        \u001b[35m0.1447\u001b[0m  4.5511\n",
      "      4        \u001b[36m0.1518\u001b[0m       \u001b[32m0.9625\u001b[0m        \u001b[35m0.1225\u001b[0m  4.5225\n",
      "      5        \u001b[36m0.1301\u001b[0m       \u001b[32m0.9677\u001b[0m        \u001b[35m0.1076\u001b[0m  4.5457\n",
      "      6        \u001b[36m0.1148\u001b[0m       \u001b[32m0.9702\u001b[0m        \u001b[35m0.0962\u001b[0m  4.5023\n",
      "      7        \u001b[36m0.1029\u001b[0m       \u001b[32m0.9726\u001b[0m        \u001b[35m0.0885\u001b[0m  4.5131\n",
      "      8        \u001b[36m0.0929\u001b[0m       \u001b[32m0.9747\u001b[0m        \u001b[35m0.0824\u001b[0m  4.4791\n",
      "      9        \u001b[36m0.0860\u001b[0m       \u001b[32m0.9761\u001b[0m        \u001b[35m0.0778\u001b[0m  4.5446\n",
      "     10        \u001b[36m0.0809\u001b[0m       \u001b[32m0.9776\u001b[0m        \u001b[35m0.0736\u001b[0m  4.5508\n",
      "  epoch    train_loss    valid_acc    valid_loss     dur\n",
      "-------  ------------  -----------  ------------  ------\n",
      "      1        \u001b[36m0.8251\u001b[0m       \u001b[32m0.9296\u001b[0m        \u001b[35m0.2876\u001b[0m  4.4652\n",
      "      2        \u001b[36m0.2563\u001b[0m       \u001b[32m0.9545\u001b[0m        \u001b[35m0.1674\u001b[0m  4.4472\n",
      "      3        \u001b[36m0.1753\u001b[0m       \u001b[32m0.9643\u001b[0m        \u001b[35m0.1279\u001b[0m  4.4708\n",
      "      4        \u001b[36m0.1411\u001b[0m       \u001b[32m0.9694\u001b[0m        \u001b[35m0.1057\u001b[0m  4.4687\n",
      "      5        \u001b[36m0.1204\u001b[0m       \u001b[32m0.9724\u001b[0m        \u001b[35m0.0935\u001b[0m  4.4676\n",
      "      6        \u001b[36m0.1048\u001b[0m       \u001b[32m0.9747\u001b[0m        \u001b[35m0.0842\u001b[0m  4.4849\n",
      "      7        \u001b[36m0.0916\u001b[0m       \u001b[32m0.9766\u001b[0m        \u001b[35m0.0771\u001b[0m  4.6674\n",
      "      8        \u001b[36m0.0851\u001b[0m       \u001b[32m0.9777\u001b[0m        \u001b[35m0.0726\u001b[0m  4.5872\n",
      "      9        \u001b[36m0.0768\u001b[0m       \u001b[32m0.9793\u001b[0m        \u001b[35m0.0672\u001b[0m  4.7646\n",
      "     10        \u001b[36m0.0720\u001b[0m       \u001b[32m0.9799\u001b[0m        \u001b[35m0.0637\u001b[0m  4.6317\n"
     ]
    }
   ],
   "source": [
    "num_crossval_folds = 3  # for efficiency; values like 5 or 10 will generally work better\n",
    "pred_probs = cross_val_predict(\n",
    "    model_skorch,\n",
    "    new_X,\n",
    "    new_labels,\n",
    "    cv=num_crossval_folds,\n",
    "    method=\"predict_proba\",\n",
    ")"
   ]
  },
  {
   "cell_type": "code",
   "execution_count": null,
   "metadata": {},
   "outputs": [],
   "source": [
    "Xtr, Xdev, Ytr, Ydev = train_test_split(new_X, new_labels, test_size = 0.1)"
   ]
  },
  {
   "cell_type": "code",
   "execution_count": 139,
   "metadata": {},
   "outputs": [
    {
     "name": "stdout",
     "output_type": "stream",
     "text": [
      "<generator object Module.parameters at 0x2af660dd0>\n"
     ]
    }
   ],
   "source": [
    "model = ClassifierModule()\n",
    "print(model.parameters())\n",
    "optim = AdamW(model.parameters(), lr=1e-3)\n",
    "losses = []\n",
    "losses_test = []\n",
    "losses_mean = []"
   ]
  },
  {
   "cell_type": "code",
   "execution_count": 140,
   "metadata": {},
   "outputs": [],
   "source": [
    "with torch.no_grad():\n",
    "    def evaluate():\n",
    "        logits = model(Xdev)\n",
    "        loss = F.cross_entropy(logits, Ydev)\n",
    "        return loss"
   ]
  },
  {
   "cell_type": "code",
   "execution_count": 141,
   "metadata": {},
   "outputs": [
    {
     "name": "stdout",
     "output_type": "stream",
     "text": [
      "current step: 0, loss: 0.3624\n",
      "current step: 500, loss: 0.1648\n",
      "current step: 1000, loss: 0.1771\n",
      "current step: 1500, loss: 0.1798\n",
      "current step: 2000, loss: 0.1741\n",
      "current step: 2500, loss: 0.1689\n",
      "current step: 3000, loss: 0.1647\n",
      "current step: 3500, loss: 0.1693\n",
      "current step: 4000, loss: 0.1693\n",
      "current step: 4500, loss: 0.1706\n",
      "current step: 5000, loss: 0.1693\n",
      "current step: 5500, loss: 0.1647\n",
      "current step: 6000, loss: 0.1784\n",
      "current step: 6500, loss: 0.1825\n",
      "current step: 7000, loss: 0.1654\n",
      "current step: 7500, loss: 0.1693\n",
      "current step: 8000, loss: 0.1739\n",
      "current step: 8500, loss: 0.1693\n",
      "current step: 9000, loss: 0.1785\n",
      "current step: 9500, loss: 0.1722\n"
     ]
    }
   ],
   "source": [
    "max_steps = 10000\n",
    "batch_size = 64\n",
    "\n",
    "model.train()\n",
    "\n",
    "for i in range(max_steps):\n",
    "    ix = torch.randint(0, Xtr.shape[0], (batch_size, ))\n",
    "    Xb, Yb = Xtr[ix], Ytr[ix]\n",
    "\n",
    "    preds = model(Xb)\n",
    "    loss = F.cross_entropy(preds, Yb)\n",
    "\n",
    "    optim.zero_grad()\n",
    "    loss.backward()\n",
    "    optim.step()\n",
    "\n",
    "    if i % 500 == 0:\n",
    "        print(f\"current step: {i}, loss: {loss.log10().item():.4f}\")\n",
    "        losses_test.append(evaluate())\n",
    "    losses.append(loss.log10().item())"
   ]
  },
  {
   "cell_type": "code",
   "execution_count": 142,
   "metadata": {},
   "outputs": [
    {
     "data": {
      "image/png": "[encoded data removed]",
      "text/plain": [
       "<Figure size 640x480 with 1 Axes>"
      ]
     },
     "metadata": {},
     "output_type": "display_data"
    }
   ],
   "source": [
    "with torch.no_grad():\n",
    "    losses_mean = []\n",
    "    for i in range(max_steps // 50):\n",
    "        mean = torch.mean(torch.tensor(losses[(i)*50:(i+1)*50]))\n",
    "        losses_mean.append(mean)\n",
    "    plt.plot(losses_mean)"
   ]
  },
  {
   "cell_type": "code",
   "execution_count": 143,
   "metadata": {},
   "outputs": [
    {
     "name": "stdout",
     "output_type": "stream",
     "text": [
      "6854 / 6987\n",
      "98.09646486331759\n"
     ]
    }
   ],
   "source": [
    "with torch.no_grad():\n",
    "    model.eval()\n",
    "    logits = model(Xdev)\n",
    "    _, predicted = torch.max(logits.data, 1)\n",
    "    n_correct = (predicted == Ydev).sum().item()\n",
    "    print(n_correct,  \"/\",  len(Xdev))\n",
    "    print(100.0 * n_correct / len(Xdev))\n"
   ]
  },
  {
   "cell_type": "markdown",
   "metadata": {},
   "source": [
    "### Performance log (first model is the best)"
   ]
  },
  {
   "cell_type": "code",
   "execution_count": 136,
   "metadata": {},
   "outputs": [],
   "source": [
    "class ClassifierModule(nn.Module):\n",
    "    def __init__(self):\n",
    "        super().__init__()\n",
    "\n",
    "        self.cnn = nn.Sequential(\n",
    "            nn.Conv2d(1, 6, 3, bias=False),\n",
    "            nn.ReLU(),\n",
    "            nn.BatchNorm2d(6),\n",
    "            nn.MaxPool2d(kernel_size=2, stride=2),\n",
    "\n",
    "            nn.Conv2d(6, 16, 3, bias=False),\n",
    "            nn.ReLU(),\n",
    "            nn.BatchNorm2d(16),\n",
    "            nn.MaxPool2d(kernel_size=2, stride=2),\n",
    "        )\n",
    "        self.out = nn.Sequential(\n",
    "            nn.Flatten(),\n",
    "            nn.Linear(200, 200),\n",
    "            nn.ReLU(),\n",
    "\n",
    "            nn.Dropout(0.3),\n",
    "            nn.Linear(200, 10),\n",
    "            nn.Softmax(dim=-1),\n",
    "        )\n",
    "\n",
    "    def forward(self, X):\n",
    "        X = self.cnn(X)\n",
    "        X = self.out(X)\n",
    "        return X"
   ]
  },
  {
   "cell_type": "markdown",
   "metadata": {},
   "source": [
    "Performance on testset after 10000 steps: 98,612 % "
   ]
  },
  {
   "cell_type": "code",
   "execution_count": null,
   "metadata": {},
   "outputs": [],
   "source": [
    "# Additional Conv2d layer\n",
    "\n",
    "class ClassifierModule(nn.Module):\n",
    "    def __init__(self):\n",
    "        super().__init__()\n",
    "\n",
    "        self.cnn = nn.Sequential(\n",
    "            nn.Conv2d(1, 6, 3, bias=False),\n",
    "            nn.ReLU(),\n",
    "            nn.BatchNorm2d(6),\n",
    "            nn.MaxPool2d(kernel_size=2, stride=2),\n",
    "\n",
    "            nn.Conv2d(6, 16, 3, bias=False),\n",
    "            nn.ReLU(),\n",
    "            nn.BatchNorm2d(16),\n",
    "            nn.MaxPool2d(kernel_size=2, stride=2),\n",
    "\n",
    "            nn.Conv2d(16, 48, 3, bias=False),\n",
    "            nn.ReLU(),\n",
    "            nn.BatchNorm2d(48),\n",
    "            nn.MaxPool2d(kernel_size=2, stride=2)\n",
    "        )\n",
    "        self.out = nn.Sequential(\n",
    "            nn.Flatten(),\n",
    "            nn.Linear(48, 200),\n",
    "            nn.ReLU(),\n",
    "\n",
    "            nn.Dropout(0.3),\n",
    "            nn.Linear(200, 10),\n",
    "            nn.Softmax(dim=-1),\n",
    "        )\n",
    "\n",
    "    def forward(self, X):\n",
    "        X = self.cnn(X)\n",
    "        X = self.out(X)\n",
    "        return X"
   ]
  },
  {
   "cell_type": "markdown",
   "metadata": {},
   "source": [
    "Performance on testset after 10000 steps: 98.31 % "
   ]
  },
  {
   "cell_type": "code",
   "execution_count": 124,
   "metadata": {},
   "outputs": [],
   "source": [
    "# with one more hidden, fully connected layer\n",
    "class ClassifierModule(nn.Module):\n",
    "    def __init__(self):\n",
    "        super().__init__()\n",
    "\n",
    "        self.cnn = nn.Sequential(\n",
    "            nn.Conv2d(1, 6, 3, bias=False),\n",
    "            nn.ReLU(),\n",
    "            nn.BatchNorm2d(6),\n",
    "            nn.MaxPool2d(kernel_size=2, stride=2),\n",
    "\n",
    "            nn.Conv2d(6, 16, 3, bias=False),\n",
    "            nn.ReLU(),\n",
    "            nn.BatchNorm2d(16),\n",
    "            nn.MaxPool2d(kernel_size=2, stride=2),\n",
    "        )\n",
    "        self.out = nn.Sequential(\n",
    "            nn.Flatten(),\n",
    "            nn.Linear(400, 400),\n",
    "            nn.ReLU(),\n",
    "            nn.Dropout(0.2),\n",
    "\n",
    "            nn.Linear(400, 200),\n",
    "            nn.ReLU(),\n",
    "\n",
    "            nn.Dropout(0.2),\n",
    "            nn.Linear(200, 10),\n",
    "            nn.Softmax(dim=-1),\n",
    "        )\n",
    "\n",
    "    def forward(self, X):\n",
    "        X = self.cnn(X)\n",
    "        X = self.out(X)\n",
    "        return X"
   ]
  },
  {
   "cell_type": "markdown",
   "metadata": {},
   "source": [
    "Performance on testset after 10000 steps: 98.46%"
   ]
  }
 ],
 "metadata": {
  "kernelspec": {
   "display_name": "Python 3.10.9 64-bit",
   "language": "python",
   "name": "python3"
  },
  "language_info": {
   "codemirror_mode": {
    "name": "ipython",
    "version": 3
   },
   "file_extension": ".py",
   "mimetype": "text/x-python",
   "name": "python",
   "nbconvert_exporter": "python",
   "pygments_lexer": "ipython3",
   "version": "3.11.2"
  },
  "orig_nbformat": 4,
  "vscode": {
   "interpreter": {
    "hash": "b0fa6594d8f4cbf19f97940f81e996739fb7646882a419484c72d19e05852a7e"
   }
  }
 },
 "nbformat": 4,
 "nbformat_minor": 2
}
