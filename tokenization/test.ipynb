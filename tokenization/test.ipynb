{
 "cells": [
  {
   "cell_type": "code",
   "execution_count": 1,
   "metadata": {},
   "outputs": [
    {
     "name": "stdout",
     "output_type": "stream",
     "text": [
      "0\n",
      "0\n",
      "0\n",
      "0\n",
      "0\n",
      "0\n",
      "0\n",
      "0\n",
      "0\n",
      "0\n"
     ]
    }
   ],
   "source": [
    "for x in range(10):\n",
    "    sum = 0\n",
    "    for y in range(10):\n",
    "        break\n",
    "    print(sum)\n"
   ]
  },
  {
   "cell_type": "code",
   "execution_count": 5,
   "metadata": {},
   "outputs": [
    {
     "data": {
      "text/plain": [
       "{0: 0.0,\n",
       " 1: 0.029999999999999902,\n",
       " 2: 0.059999999999999803,\n",
       " 3: 0.0899999999999995,\n",
       " 4: 1.3799999999999994,\n",
       " 5: 2.67,\n",
       " 6: 3.959999999999999,\n",
       " 7: 5.46,\n",
       " 8: 6.959999999999999,\n",
       " 9: 8.459999999999999,\n",
       " 10: 9.959999999999999,\n",
       " 11: 11.46,\n",
       " 12: 12.959999999999997,\n",
       " 13: 14.459999999999999,\n",
       " 14: 15.959999999999997,\n",
       " 15: 17.459999999999997}"
      ]
     },
     "execution_count": 5,
     "metadata": {},
     "output_type": "execute_result"
    }
   ],
   "source": [
    "d = lambda x, y: x * 1.5 - 2.1 * min(y, x + 0)\n",
    "func = lambda x: 0.3 * d(x, 0) + 0.6 * d(x, 3) + 0.1 * d(x, 6)\n",
    "{x: func(x) for x in range(16)}"
   ]
  },
  {
   "cell_type": "code",
   "execution_count": null,
   "metadata": {},
   "outputs": [],
   "source": []
  }
 ],
 "metadata": {
  "kernelspec": {
   "display_name": "Python 3.11.2 64-bit",
   "language": "python",
   "name": "python3"
  },
  "language_info": {
   "codemirror_mode": {
    "name": "ipython",
    "version": 3
   },
   "file_extension": ".py",
   "mimetype": "text/x-python",
   "name": "python",
   "nbconvert_exporter": "python",
   "pygments_lexer": "ipython3",
   "version": "3.11.2"
  },
  "orig_nbformat": 4,
  "vscode": {
   "interpreter": {
    "hash": "b0fa6594d8f4cbf19f97940f81e996739fb7646882a419484c72d19e05852a7e"
   }
  }
 },
 "nbformat": 4,
 "nbformat_minor": 2
}
