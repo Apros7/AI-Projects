{
 "cells": [
  {
   "cell_type": "code",
   "execution_count": 22,
   "metadata": {},
   "outputs": [],
   "source": [
    "# Drenge:\n",
    "# Silas: 8\n",
    "# Oliver: 2\n",
    "# Malte P: 4\n",
    "# Jacob: 1\n",
    "# Asger: 2\n",
    "# Zaka: 1\n",
    "# Frederik: 2\n",
    "# Alexander; 0\n",
    "# Jonathan; 0\n",
    "\n",
    "# Piger:\n",
    "# Thea: 7\n",
    "# Sheila: 2\n",
    "# Julie: 1\n",
    "# Emilie: 4\n",
    "# Camilla: 3\n",
    "# Juliane: 2\n",
    "# Asta; 0\n",
    "# Frida; 0\n",
    "# Ida; 0\n",
    "# Naja; 0\n",
    "# Naalua; 0\n",
    "# Sidsel; 0\n",
    "# Viola; 0\n"
   ]
  },
  {
   "cell_type": "code",
   "execution_count": 23,
   "metadata": {},
   "outputs": [
    {
     "data": {
      "text/plain": [
       "20"
      ]
     },
     "execution_count": 23,
     "metadata": {},
     "output_type": "execute_result"
    }
   ],
   "source": [
    "drenge = [8, 2, 4, 1, 2, 1, 2, 0, 0]\n",
    "piger = [7, 2, 1, 4, 3, 2, 0, 0, 0, 0, 0, 0, 0]\n",
    "sum(drenge)"
   ]
  },
  {
   "cell_type": "code",
   "execution_count": 24,
   "metadata": {},
   "outputs": [],
   "source": [
    "piger_fixed = [(x / sum(piger)) - 1/len(piger) for x in piger]\n",
    "drenge_fixed = [(x / sum(drenge)) - 1/len(drenge) for x in drenge]"
   ]
  },
  {
   "cell_type": "code",
   "execution_count": 25,
   "metadata": {},
   "outputs": [
    {
     "data": {
      "text/plain": [
       "([0.2888888888888889,\n",
       "  -0.0111111111111111,\n",
       "  0.0888888888888889,\n",
       "  -0.0611111111111111,\n",
       "  -0.0111111111111111,\n",
       "  -0.0611111111111111,\n",
       "  -0.0111111111111111,\n",
       "  -0.1111111111111111,\n",
       "  -0.1111111111111111],\n",
       " [0.291497975708502,\n",
       "  0.02834008097165991,\n",
       "  -0.02429149797570851,\n",
       "  0.13360323886639675,\n",
       "  0.08097165991902833,\n",
       "  0.02834008097165991,\n",
       "  -0.07692307692307693,\n",
       "  -0.07692307692307693,\n",
       "  -0.07692307692307693,\n",
       "  -0.07692307692307693,\n",
       "  -0.07692307692307693,\n",
       "  -0.07692307692307693,\n",
       "  -0.07692307692307693])"
      ]
     },
     "execution_count": 25,
     "metadata": {},
     "output_type": "execute_result"
    }
   ],
   "source": [
    "drenge_fixed, piger_fixed"
   ]
  },
  {
   "cell_type": "code",
   "execution_count": null,
   "metadata": {},
   "outputs": [],
   "source": []
  }
 ],
 "metadata": {
  "kernelspec": {
   "display_name": "Python 3.11.2 64-bit",
   "language": "python",
   "name": "python3"
  },
  "language_info": {
   "codemirror_mode": {
    "name": "ipython",
    "version": 3
   },
   "file_extension": ".py",
   "mimetype": "text/x-python",
   "name": "python",
   "nbconvert_exporter": "python",
   "pygments_lexer": "ipython3",
   "version": "3.11.2"
  },
  "orig_nbformat": 4,
  "vscode": {
   "interpreter": {
    "hash": "b0fa6594d8f4cbf19f97940f81e996739fb7646882a419484c72d19e05852a7e"
   }
  }
 },
 "nbformat": 4,
 "nbformat_minor": 2
}
